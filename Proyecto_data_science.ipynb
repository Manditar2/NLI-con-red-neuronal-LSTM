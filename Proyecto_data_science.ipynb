{
  "cells": [
    {
      "cell_type": "markdown",
      "metadata": {
        "id": "view-in-github",
        "colab_type": "text"
      },
      "source": [
        "<a href=\"https://colab.research.google.com/github/Manditar2/NLI-con-red-neuronal-LSTM/blob/main/Proyecto_data_science.ipynb\" target=\"_parent\"><img src=\"https://colab.research.google.com/assets/colab-badge.svg\" alt=\"Open In Colab\"/></a>"
      ]
    },
    {
      "cell_type": "code",
      "execution_count": 1,
      "metadata": {
        "id": "YyeG2mNQhDP4"
      },
      "outputs": [],
      "source": [
        "import numpy as np\n",
        "import pandas as pd\n",
        "import matplotlib.pyplot as plt\n",
        "import seaborn as sns\n",
        "import re\n",
        "import string\n",
        "import nltk\n",
        "import tensorflow as tf\n",
        "from nltk.corpus import stopwords\n",
        "from nltk.stem.snowball import SnowballStemmer\n",
        "from sklearn.preprocessing import LabelEncoder\n",
        "from tensorflow import keras\n",
        "from keras.preprocessing.text import Tokenizer\n",
        "from keras.utils import to_categorical\n",
        "from keras.utils import pad_sequences\n",
        "from keras.callbacks import TensorBoard, EarlyStopping\n",
        "from keras.layers import Input, Embedding, LSTM , Dense, Flatten, Dropout , GRU, TimeDistributed, Conv1D, MaxPool1D\n",
        "from keras.metrics import TruePositives, FalsePositives,categorical_accuracy, TrueNegatives, FalseNegatives, Precision, Recall, AUC\n",
        "\n"
      ]
    },
    {
      "cell_type": "code",
      "execution_count": 2,
      "metadata": {
        "colab": {
          "base_uri": "https://localhost:8080/"
        },
        "id": "aGoRYGUnmqSA",
        "outputId": "fb7ddcc2-d29e-415e-92e9-a46528b598bd"
      },
      "outputs": [
        {
          "output_type": "stream",
          "name": "stderr",
          "text": [
            "[nltk_data] Downloading package stopwords to /root/nltk_data...\n",
            "[nltk_data]   Unzipping corpora/stopwords.zip.\n"
          ]
        },
        {
          "output_type": "stream",
          "name": "stdout",
          "text": [
            "--2023-05-29 13:05:26--  https://nlp.stanford.edu/data/glove.6B.zip\n",
            "Resolving nlp.stanford.edu (nlp.stanford.edu)... 171.64.67.140\n",
            "Connecting to nlp.stanford.edu (nlp.stanford.edu)|171.64.67.140|:443... connected.\n",
            "HTTP request sent, awaiting response... 301 Moved Permanently\n",
            "Location: https://downloads.cs.stanford.edu/nlp/data/glove.6B.zip [following]\n",
            "--2023-05-29 13:05:26--  https://downloads.cs.stanford.edu/nlp/data/glove.6B.zip\n",
            "Resolving downloads.cs.stanford.edu (downloads.cs.stanford.edu)... 171.64.64.22\n",
            "Connecting to downloads.cs.stanford.edu (downloads.cs.stanford.edu)|171.64.64.22|:443... connected.\n",
            "HTTP request sent, awaiting response... 200 OK\n",
            "Length: 862182613 (822M) [application/zip]\n",
            "Saving to: ‘glove.6B.zip’\n",
            "\n",
            "glove.6B.zip        100%[===================>] 822.24M  5.03MB/s    in 2m 39s  \n",
            "\n",
            "2023-05-29 13:08:06 (5.17 MB/s) - ‘glove.6B.zip’ saved [862182613/862182613]\n",
            "\n",
            "Archive:  glove.6B.zip\n",
            "  inflating: glove.6B.50d.txt        \n",
            "  inflating: glove.6B.100d.txt       \n",
            "  inflating: glove.6B.200d.txt       \n",
            "  inflating: glove.6B.300d.txt       \n"
          ]
        }
      ],
      "source": [
        "nltk.download('stopwords')\n",
        "!wget https://nlp.stanford.edu/data/glove.6B.zip\n",
        "!unzip glove.6B.zip"
      ]
    },
    {
      "cell_type": "code",
      "execution_count": 3,
      "metadata": {
        "colab": {
          "base_uri": "https://localhost:8080/",
          "height": 302
        },
        "id": "BSzm03xihRju",
        "outputId": "87cb8a1b-314b-4485-838b-08f149af40b5"
      },
      "outputs": [
        {
          "output_type": "execute_result",
          "data": {
            "text/plain": [
              "                                           sentence1  \\\n",
              "0  A person on a horse jumps over a broken down a...   \n",
              "1  A person on a horse jumps over a broken down a...   \n",
              "2  A person on a horse jumps over a broken down a...   \n",
              "3              Children smiling and waving at camera   \n",
              "4              Children smiling and waving at camera   \n",
              "\n",
              "                                           sentence2     gold_label  \n",
              "0  A person is training his horse for a competition.        neutral  \n",
              "1      A person is at a diner, ordering an omelette.  contradiction  \n",
              "2                  A person is outdoors, on a horse.     entailment  \n",
              "3                  They are smiling at their parents        neutral  \n",
              "4                         There are children present     entailment  "
            ],
            "text/html": [
              "\n",
              "  <div id=\"df-15e7d343-f9a6-4f1f-aa58-6a8f6e0dc525\">\n",
              "    <div class=\"colab-df-container\">\n",
              "      <div>\n",
              "<style scoped>\n",
              "    .dataframe tbody tr th:only-of-type {\n",
              "        vertical-align: middle;\n",
              "    }\n",
              "\n",
              "    .dataframe tbody tr th {\n",
              "        vertical-align: top;\n",
              "    }\n",
              "\n",
              "    .dataframe thead th {\n",
              "        text-align: right;\n",
              "    }\n",
              "</style>\n",
              "<table border=\"1\" class=\"dataframe\">\n",
              "  <thead>\n",
              "    <tr style=\"text-align: right;\">\n",
              "      <th></th>\n",
              "      <th>sentence1</th>\n",
              "      <th>sentence2</th>\n",
              "      <th>gold_label</th>\n",
              "    </tr>\n",
              "  </thead>\n",
              "  <tbody>\n",
              "    <tr>\n",
              "      <th>0</th>\n",
              "      <td>A person on a horse jumps over a broken down a...</td>\n",
              "      <td>A person is training his horse for a competition.</td>\n",
              "      <td>neutral</td>\n",
              "    </tr>\n",
              "    <tr>\n",
              "      <th>1</th>\n",
              "      <td>A person on a horse jumps over a broken down a...</td>\n",
              "      <td>A person is at a diner, ordering an omelette.</td>\n",
              "      <td>contradiction</td>\n",
              "    </tr>\n",
              "    <tr>\n",
              "      <th>2</th>\n",
              "      <td>A person on a horse jumps over a broken down a...</td>\n",
              "      <td>A person is outdoors, on a horse.</td>\n",
              "      <td>entailment</td>\n",
              "    </tr>\n",
              "    <tr>\n",
              "      <th>3</th>\n",
              "      <td>Children smiling and waving at camera</td>\n",
              "      <td>They are smiling at their parents</td>\n",
              "      <td>neutral</td>\n",
              "    </tr>\n",
              "    <tr>\n",
              "      <th>4</th>\n",
              "      <td>Children smiling and waving at camera</td>\n",
              "      <td>There are children present</td>\n",
              "      <td>entailment</td>\n",
              "    </tr>\n",
              "  </tbody>\n",
              "</table>\n",
              "</div>\n",
              "      <button class=\"colab-df-convert\" onclick=\"convertToInteractive('df-15e7d343-f9a6-4f1f-aa58-6a8f6e0dc525')\"\n",
              "              title=\"Convert this dataframe to an interactive table.\"\n",
              "              style=\"display:none;\">\n",
              "        \n",
              "  <svg xmlns=\"http://www.w3.org/2000/svg\" height=\"24px\"viewBox=\"0 0 24 24\"\n",
              "       width=\"24px\">\n",
              "    <path d=\"M0 0h24v24H0V0z\" fill=\"none\"/>\n",
              "    <path d=\"M18.56 5.44l.94 2.06.94-2.06 2.06-.94-2.06-.94-.94-2.06-.94 2.06-2.06.94zm-11 1L8.5 8.5l.94-2.06 2.06-.94-2.06-.94L8.5 2.5l-.94 2.06-2.06.94zm10 10l.94 2.06.94-2.06 2.06-.94-2.06-.94-.94-2.06-.94 2.06-2.06.94z\"/><path d=\"M17.41 7.96l-1.37-1.37c-.4-.4-.92-.59-1.43-.59-.52 0-1.04.2-1.43.59L10.3 9.45l-7.72 7.72c-.78.78-.78 2.05 0 2.83L4 21.41c.39.39.9.59 1.41.59.51 0 1.02-.2 1.41-.59l7.78-7.78 2.81-2.81c.8-.78.8-2.07 0-2.86zM5.41 20L4 18.59l7.72-7.72 1.47 1.35L5.41 20z\"/>\n",
              "  </svg>\n",
              "      </button>\n",
              "      \n",
              "  <style>\n",
              "    .colab-df-container {\n",
              "      display:flex;\n",
              "      flex-wrap:wrap;\n",
              "      gap: 12px;\n",
              "    }\n",
              "\n",
              "    .colab-df-convert {\n",
              "      background-color: #E8F0FE;\n",
              "      border: none;\n",
              "      border-radius: 50%;\n",
              "      cursor: pointer;\n",
              "      display: none;\n",
              "      fill: #1967D2;\n",
              "      height: 32px;\n",
              "      padding: 0 0 0 0;\n",
              "      width: 32px;\n",
              "    }\n",
              "\n",
              "    .colab-df-convert:hover {\n",
              "      background-color: #E2EBFA;\n",
              "      box-shadow: 0px 1px 2px rgba(60, 64, 67, 0.3), 0px 1px 3px 1px rgba(60, 64, 67, 0.15);\n",
              "      fill: #174EA6;\n",
              "    }\n",
              "\n",
              "    [theme=dark] .colab-df-convert {\n",
              "      background-color: #3B4455;\n",
              "      fill: #D2E3FC;\n",
              "    }\n",
              "\n",
              "    [theme=dark] .colab-df-convert:hover {\n",
              "      background-color: #434B5C;\n",
              "      box-shadow: 0px 1px 3px 1px rgba(0, 0, 0, 0.15);\n",
              "      filter: drop-shadow(0px 1px 2px rgba(0, 0, 0, 0.3));\n",
              "      fill: #FFFFFF;\n",
              "    }\n",
              "  </style>\n",
              "\n",
              "      <script>\n",
              "        const buttonEl =\n",
              "          document.querySelector('#df-15e7d343-f9a6-4f1f-aa58-6a8f6e0dc525 button.colab-df-convert');\n",
              "        buttonEl.style.display =\n",
              "          google.colab.kernel.accessAllowed ? 'block' : 'none';\n",
              "\n",
              "        async function convertToInteractive(key) {\n",
              "          const element = document.querySelector('#df-15e7d343-f9a6-4f1f-aa58-6a8f6e0dc525');\n",
              "          const dataTable =\n",
              "            await google.colab.kernel.invokeFunction('convertToInteractive',\n",
              "                                                     [key], {});\n",
              "          if (!dataTable) return;\n",
              "\n",
              "          const docLinkHtml = 'Like what you see? Visit the ' +\n",
              "            '<a target=\"_blank\" href=https://colab.research.google.com/notebooks/data_table.ipynb>data table notebook</a>'\n",
              "            + ' to learn more about interactive tables.';\n",
              "          element.innerHTML = '';\n",
              "          dataTable['output_type'] = 'display_data';\n",
              "          await google.colab.output.renderOutput(dataTable, element);\n",
              "          const docLink = document.createElement('div');\n",
              "          docLink.innerHTML = docLinkHtml;\n",
              "          element.appendChild(docLink);\n",
              "        }\n",
              "      </script>\n",
              "    </div>\n",
              "  </div>\n",
              "  "
            ]
          },
          "metadata": {},
          "execution_count": 3
        }
      ],
      "source": [
        "#@title Cargar datos\n",
        "df = pd.read_csv('/content/sample_data/snli_1.0_train.csv')\n",
        "columnas = ['sentence1','sentence2','gold_label']\n",
        "df = df[columnas]\n",
        "df.dropna(axis=0, inplace=True) #Se eliminan datos nulos\n",
        "df.head()"
      ]
    },
    {
      "cell_type": "code",
      "execution_count": 4,
      "metadata": {
        "colab": {
          "base_uri": "https://localhost:8080/"
        },
        "id": "Qk8HB56N5i3g",
        "outputId": "99a294e8-2ab1-4e20-d521-512aab398617"
      },
      "outputs": [
        {
          "output_type": "execute_result",
          "data": {
            "text/plain": [
              "(35787, 3)"
            ]
          },
          "metadata": {},
          "execution_count": 4
        }
      ],
      "source": [
        "df = df.loc[df['gold_label'] != \"-\"]   #Se botan las filas que contengan - y neutral\n",
        "df = df.loc[df['gold_label'] != \"neutral\"]\n",
        "df.shape"
      ]
    },
    {
      "cell_type": "code",
      "execution_count": 5,
      "metadata": {
        "colab": {
          "base_uri": "https://localhost:8080/",
          "height": 302
        },
        "id": "aSEtK3kbzl4I",
        "outputId": "4b22ffb0-0db8-432e-eedf-7d6021adcdf1"
      },
      "outputs": [
        {
          "output_type": "execute_result",
          "data": {
            "text/plain": [
              "                                               sentence1  \\\n",
              "50574              A child rides a bike high in the air.   \n",
              "16594             A lot of motorcycles lined up in Asia.   \n",
              "23954  A group of hikers in packs walk up a stone sta...   \n",
              "22515  A man in a black shirt is throwing a child in ...   \n",
              "7999   Some youth are playing basketball on an outdoo...   \n",
              "\n",
              "                                               sentence2  gold_label  \n",
              "50574                             A child riding a bike.           0  \n",
              "16594               There are a few motorcycles in Asia.           1  \n",
              "23954                     A group of hikers are outside.           0  \n",
              "22515  A man wearing clothes throwing a child into th...           0  \n",
              "7999                   The youth are playing basketball.           0  "
            ],
            "text/html": [
              "\n",
              "  <div id=\"df-b755b418-af82-4ea5-a71a-86fd8f21d0a6\">\n",
              "    <div class=\"colab-df-container\">\n",
              "      <div>\n",
              "<style scoped>\n",
              "    .dataframe tbody tr th:only-of-type {\n",
              "        vertical-align: middle;\n",
              "    }\n",
              "\n",
              "    .dataframe tbody tr th {\n",
              "        vertical-align: top;\n",
              "    }\n",
              "\n",
              "    .dataframe thead th {\n",
              "        text-align: right;\n",
              "    }\n",
              "</style>\n",
              "<table border=\"1\" class=\"dataframe\">\n",
              "  <thead>\n",
              "    <tr style=\"text-align: right;\">\n",
              "      <th></th>\n",
              "      <th>sentence1</th>\n",
              "      <th>sentence2</th>\n",
              "      <th>gold_label</th>\n",
              "    </tr>\n",
              "  </thead>\n",
              "  <tbody>\n",
              "    <tr>\n",
              "      <th>50574</th>\n",
              "      <td>A child rides a bike high in the air.</td>\n",
              "      <td>A child riding a bike.</td>\n",
              "      <td>0</td>\n",
              "    </tr>\n",
              "    <tr>\n",
              "      <th>16594</th>\n",
              "      <td>A lot of motorcycles lined up in Asia.</td>\n",
              "      <td>There are a few motorcycles in Asia.</td>\n",
              "      <td>1</td>\n",
              "    </tr>\n",
              "    <tr>\n",
              "      <th>23954</th>\n",
              "      <td>A group of hikers in packs walk up a stone sta...</td>\n",
              "      <td>A group of hikers are outside.</td>\n",
              "      <td>0</td>\n",
              "    </tr>\n",
              "    <tr>\n",
              "      <th>22515</th>\n",
              "      <td>A man in a black shirt is throwing a child in ...</td>\n",
              "      <td>A man wearing clothes throwing a child into th...</td>\n",
              "      <td>0</td>\n",
              "    </tr>\n",
              "    <tr>\n",
              "      <th>7999</th>\n",
              "      <td>Some youth are playing basketball on an outdoo...</td>\n",
              "      <td>The youth are playing basketball.</td>\n",
              "      <td>0</td>\n",
              "    </tr>\n",
              "  </tbody>\n",
              "</table>\n",
              "</div>\n",
              "      <button class=\"colab-df-convert\" onclick=\"convertToInteractive('df-b755b418-af82-4ea5-a71a-86fd8f21d0a6')\"\n",
              "              title=\"Convert this dataframe to an interactive table.\"\n",
              "              style=\"display:none;\">\n",
              "        \n",
              "  <svg xmlns=\"http://www.w3.org/2000/svg\" height=\"24px\"viewBox=\"0 0 24 24\"\n",
              "       width=\"24px\">\n",
              "    <path d=\"M0 0h24v24H0V0z\" fill=\"none\"/>\n",
              "    <path d=\"M18.56 5.44l.94 2.06.94-2.06 2.06-.94-2.06-.94-.94-2.06-.94 2.06-2.06.94zm-11 1L8.5 8.5l.94-2.06 2.06-.94-2.06-.94L8.5 2.5l-.94 2.06-2.06.94zm10 10l.94 2.06.94-2.06 2.06-.94-2.06-.94-.94-2.06-.94 2.06-2.06.94z\"/><path d=\"M17.41 7.96l-1.37-1.37c-.4-.4-.92-.59-1.43-.59-.52 0-1.04.2-1.43.59L10.3 9.45l-7.72 7.72c-.78.78-.78 2.05 0 2.83L4 21.41c.39.39.9.59 1.41.59.51 0 1.02-.2 1.41-.59l7.78-7.78 2.81-2.81c.8-.78.8-2.07 0-2.86zM5.41 20L4 18.59l7.72-7.72 1.47 1.35L5.41 20z\"/>\n",
              "  </svg>\n",
              "      </button>\n",
              "      \n",
              "  <style>\n",
              "    .colab-df-container {\n",
              "      display:flex;\n",
              "      flex-wrap:wrap;\n",
              "      gap: 12px;\n",
              "    }\n",
              "\n",
              "    .colab-df-convert {\n",
              "      background-color: #E8F0FE;\n",
              "      border: none;\n",
              "      border-radius: 50%;\n",
              "      cursor: pointer;\n",
              "      display: none;\n",
              "      fill: #1967D2;\n",
              "      height: 32px;\n",
              "      padding: 0 0 0 0;\n",
              "      width: 32px;\n",
              "    }\n",
              "\n",
              "    .colab-df-convert:hover {\n",
              "      background-color: #E2EBFA;\n",
              "      box-shadow: 0px 1px 2px rgba(60, 64, 67, 0.3), 0px 1px 3px 1px rgba(60, 64, 67, 0.15);\n",
              "      fill: #174EA6;\n",
              "    }\n",
              "\n",
              "    [theme=dark] .colab-df-convert {\n",
              "      background-color: #3B4455;\n",
              "      fill: #D2E3FC;\n",
              "    }\n",
              "\n",
              "    [theme=dark] .colab-df-convert:hover {\n",
              "      background-color: #434B5C;\n",
              "      box-shadow: 0px 1px 3px 1px rgba(0, 0, 0, 0.15);\n",
              "      filter: drop-shadow(0px 1px 2px rgba(0, 0, 0, 0.3));\n",
              "      fill: #FFFFFF;\n",
              "    }\n",
              "  </style>\n",
              "\n",
              "      <script>\n",
              "        const buttonEl =\n",
              "          document.querySelector('#df-b755b418-af82-4ea5-a71a-86fd8f21d0a6 button.colab-df-convert');\n",
              "        buttonEl.style.display =\n",
              "          google.colab.kernel.accessAllowed ? 'block' : 'none';\n",
              "\n",
              "        async function convertToInteractive(key) {\n",
              "          const element = document.querySelector('#df-b755b418-af82-4ea5-a71a-86fd8f21d0a6');\n",
              "          const dataTable =\n",
              "            await google.colab.kernel.invokeFunction('convertToInteractive',\n",
              "                                                     [key], {});\n",
              "          if (!dataTable) return;\n",
              "\n",
              "          const docLinkHtml = 'Like what you see? Visit the ' +\n",
              "            '<a target=\"_blank\" href=https://colab.research.google.com/notebooks/data_table.ipynb>data table notebook</a>'\n",
              "            + ' to learn more about interactive tables.';\n",
              "          element.innerHTML = '';\n",
              "          dataTable['output_type'] = 'display_data';\n",
              "          await google.colab.output.renderOutput(dataTable, element);\n",
              "          const docLink = document.createElement('div');\n",
              "          docLink.innerHTML = docLinkHtml;\n",
              "          element.appendChild(docLink);\n",
              "        }\n",
              "      </script>\n",
              "    </div>\n",
              "  </div>\n",
              "  "
            ]
          },
          "metadata": {},
          "execution_count": 5
        }
      ],
      "source": [
        "df = df.sample(frac = 1)\n",
        "df[\"gold_label\"] = (df[\"gold_label\"] == \"contradiction\").astype(int)\n",
        "df.head()"
      ]
    },
    {
      "cell_type": "code",
      "execution_count": 6,
      "metadata": {
        "id": "DGrdzs4xcfl7"
      },
      "outputs": [],
      "source": [
        "y = df['gold_label']\n",
        "len(df)\n",
        "X = df[['sentence1','sentence2']]"
      ]
    },
    {
      "cell_type": "code",
      "execution_count": 7,
      "metadata": {
        "colab": {
          "base_uri": "https://localhost:8080/",
          "height": 663
        },
        "id": "a62EttC14qq2",
        "outputId": "7ad7d05d-937b-4de5-af2e-3049574b5a20"
      },
      "outputs": [
        {
          "output_type": "display_data",
          "data": {
            "text/plain": [
              "<Figure size 800x600 with 1 Axes>"
            ],
            "image/png": "[encoded data removed]"
          },
          "metadata": {}
        }
      ],
      "source": [
        "sns.set(style='darkgrid')\n",
        "colores = ['#00818E', '#e74c3c']\n",
        "counts = df['gold_label'].value_counts().rename({0: 'Afirmación', 1: 'Contradicción'})\n",
        "\n",
        "plt.figure(figsize=(8, 6))\n",
        "counts.plot(kind='bar', color = colores)\n",
        "plt.title('Cantidad de sentencias por tipo')\n",
        "plt.xlabel('Tipo de sentencia')\n",
        "plt.ylabel('Cantidad')\n",
        "plt.show()"
      ]
    },
    {
      "cell_type": "code",
      "execution_count": 8,
      "metadata": {
        "colab": {
          "base_uri": "https://localhost:8080/",
          "height": 302
        },
        "id": "iJVQxcs8hYgi",
        "outputId": "dc85336b-a5e8-498f-bd55-4b8fae4cec56"
      },
      "outputs": [
        {
          "output_type": "execute_result",
          "data": {
            "text/plain": [
              "                                               sentence1  \\\n",
              "50574              A child rides a bike high in the air.   \n",
              "16594             A lot of motorcycles lined up in Asia.   \n",
              "23954  A group of hikers in packs walk up a stone sta...   \n",
              "22515  A man in a black shirt is throwing a child in ...   \n",
              "7999   Some youth are playing basketball on an outdoo...   \n",
              "\n",
              "                                               sentence2  gold_label  \n",
              "50574                             A child riding a bike.           0  \n",
              "16594               There are a few motorcycles in Asia.           1  \n",
              "23954                     A group of hikers are outside.           0  \n",
              "22515  A man wearing clothes throwing a child into th...           0  \n",
              "7999                   The youth are playing basketball.           0  "
            ],
            "text/html": [
              "\n",
              "  <div id=\"df-4a339440-5aad-4488-a19b-cb1642a26d32\">\n",
              "    <div class=\"colab-df-container\">\n",
              "      <div>\n",
              "<style scoped>\n",
              "    .dataframe tbody tr th:only-of-type {\n",
              "        vertical-align: middle;\n",
              "    }\n",
              "\n",
              "    .dataframe tbody tr th {\n",
              "        vertical-align: top;\n",
              "    }\n",
              "\n",
              "    .dataframe thead th {\n",
              "        text-align: right;\n",
              "    }\n",
              "</style>\n",
              "<table border=\"1\" class=\"dataframe\">\n",
              "  <thead>\n",
              "    <tr style=\"text-align: right;\">\n",
              "      <th></th>\n",
              "      <th>sentence1</th>\n",
              "      <th>sentence2</th>\n",
              "      <th>gold_label</th>\n",
              "    </tr>\n",
              "  </thead>\n",
              "  <tbody>\n",
              "    <tr>\n",
              "      <th>50574</th>\n",
              "      <td>A child rides a bike high in the air.</td>\n",
              "      <td>A child riding a bike.</td>\n",
              "      <td>0</td>\n",
              "    </tr>\n",
              "    <tr>\n",
              "      <th>16594</th>\n",
              "      <td>A lot of motorcycles lined up in Asia.</td>\n",
              "      <td>There are a few motorcycles in Asia.</td>\n",
              "      <td>1</td>\n",
              "    </tr>\n",
              "    <tr>\n",
              "      <th>23954</th>\n",
              "      <td>A group of hikers in packs walk up a stone sta...</td>\n",
              "      <td>A group of hikers are outside.</td>\n",
              "      <td>0</td>\n",
              "    </tr>\n",
              "    <tr>\n",
              "      <th>22515</th>\n",
              "      <td>A man in a black shirt is throwing a child in ...</td>\n",
              "      <td>A man wearing clothes throwing a child into th...</td>\n",
              "      <td>0</td>\n",
              "    </tr>\n",
              "    <tr>\n",
              "      <th>7999</th>\n",
              "      <td>Some youth are playing basketball on an outdoo...</td>\n",
              "      <td>The youth are playing basketball.</td>\n",
              "      <td>0</td>\n",
              "    </tr>\n",
              "  </tbody>\n",
              "</table>\n",
              "</div>\n",
              "      <button class=\"colab-df-convert\" onclick=\"convertToInteractive('df-4a339440-5aad-4488-a19b-cb1642a26d32')\"\n",
              "              title=\"Convert this dataframe to an interactive table.\"\n",
              "              style=\"display:none;\">\n",
              "        \n",
              "  <svg xmlns=\"http://www.w3.org/2000/svg\" height=\"24px\"viewBox=\"0 0 24 24\"\n",
              "       width=\"24px\">\n",
              "    <path d=\"M0 0h24v24H0V0z\" fill=\"none\"/>\n",
              "    <path d=\"M18.56 5.44l.94 2.06.94-2.06 2.06-.94-2.06-.94-.94-2.06-.94 2.06-2.06.94zm-11 1L8.5 8.5l.94-2.06 2.06-.94-2.06-.94L8.5 2.5l-.94 2.06-2.06.94zm10 10l.94 2.06.94-2.06 2.06-.94-2.06-.94-.94-2.06-.94 2.06-2.06.94z\"/><path d=\"M17.41 7.96l-1.37-1.37c-.4-.4-.92-.59-1.43-.59-.52 0-1.04.2-1.43.59L10.3 9.45l-7.72 7.72c-.78.78-.78 2.05 0 2.83L4 21.41c.39.39.9.59 1.41.59.51 0 1.02-.2 1.41-.59l7.78-7.78 2.81-2.81c.8-.78.8-2.07 0-2.86zM5.41 20L4 18.59l7.72-7.72 1.47 1.35L5.41 20z\"/>\n",
              "  </svg>\n",
              "      </button>\n",
              "      \n",
              "  <style>\n",
              "    .colab-df-container {\n",
              "      display:flex;\n",
              "      flex-wrap:wrap;\n",
              "      gap: 12px;\n",
              "    }\n",
              "\n",
              "    .colab-df-convert {\n",
              "      background-color: #E8F0FE;\n",
              "      border: none;\n",
              "      border-radius: 50%;\n",
              "      cursor: pointer;\n",
              "      display: none;\n",
              "      fill: #1967D2;\n",
              "      height: 32px;\n",
              "      padding: 0 0 0 0;\n",
              "      width: 32px;\n",
              "    }\n",
              "\n",
              "    .colab-df-convert:hover {\n",
              "      background-color: #E2EBFA;\n",
              "      box-shadow: 0px 1px 2px rgba(60, 64, 67, 0.3), 0px 1px 3px 1px rgba(60, 64, 67, 0.15);\n",
              "      fill: #174EA6;\n",
              "    }\n",
              "\n",
              "    [theme=dark] .colab-df-convert {\n",
              "      background-color: #3B4455;\n",
              "      fill: #D2E3FC;\n",
              "    }\n",
              "\n",
              "    [theme=dark] .colab-df-convert:hover {\n",
              "      background-color: #434B5C;\n",
              "      box-shadow: 0px 1px 3px 1px rgba(0, 0, 0, 0.15);\n",
              "      filter: drop-shadow(0px 1px 2px rgba(0, 0, 0, 0.3));\n",
              "      fill: #FFFFFF;\n",
              "    }\n",
              "  </style>\n",
              "\n",
              "      <script>\n",
              "        const buttonEl =\n",
              "          document.querySelector('#df-4a339440-5aad-4488-a19b-cb1642a26d32 button.colab-df-convert');\n",
              "        buttonEl.style.display =\n",
              "          google.colab.kernel.accessAllowed ? 'block' : 'none';\n",
              "\n",
              "        async function convertToInteractive(key) {\n",
              "          const element = document.querySelector('#df-4a339440-5aad-4488-a19b-cb1642a26d32');\n",
              "          const dataTable =\n",
              "            await google.colab.kernel.invokeFunction('convertToInteractive',\n",
              "                                                     [key], {});\n",
              "          if (!dataTable) return;\n",
              "\n",
              "          const docLinkHtml = 'Like what you see? Visit the ' +\n",
              "            '<a target=\"_blank\" href=https://colab.research.google.com/notebooks/data_table.ipynb>data table notebook</a>'\n",
              "            + ' to learn more about interactive tables.';\n",
              "          element.innerHTML = '';\n",
              "          dataTable['output_type'] = 'display_data';\n",
              "          await google.colab.output.renderOutput(dataTable, element);\n",
              "          const docLink = document.createElement('div');\n",
              "          docLink.innerHTML = docLinkHtml;\n",
              "          element.appendChild(docLink);\n",
              "        }\n",
              "      </script>\n",
              "    </div>\n",
              "  </div>\n",
              "  "
            ]
          },
          "metadata": {},
          "execution_count": 8
        }
      ],
      "source": [
        "#@title Limpieza de datos\n",
        "\n",
        "def limpiarTexto(sentences):\n",
        "  # texto = str(texto).lower()\n",
        "  # texto = re.sub('\\[.*?\\]', '', texto)\n",
        "  # texto = re.sub('<.*?>+', '', texto)\n",
        "  # texto = re.sub('\\n', '', texto)\n",
        "  # texto = re.sub('[%s]' % re.escape(string.punctuation), '', texto)\n",
        "  # texto = re.sub('\\w*\\d\\w*', '', texto)\n",
        "  # return texto\n",
        "  sentences = sentences.apply(lambda sequence:\n",
        "                                            [ltrs.lower() for ltrs in sequence if ltrs not in string.punctuation])\n",
        "  sentences = sentences.apply(lambda wrd: ''.join(wrd))\n",
        "  sentences = sentences.apply(lambda sequence:\n",
        "                                            [word for word in sequence.split() if word not in stop_words])\n",
        "  sentences = sentences.apply(lambda wrd: ' '.join(wrd))\n",
        "  return sentences\n",
        "df.head()"
      ]
    },
    {
      "cell_type": "code",
      "execution_count": 11,
      "metadata": {
        "colab": {
          "base_uri": "https://localhost:8080/",
          "height": 302
        },
        "id": "NgLzje1qmQ1U",
        "outputId": "ac44fd22-0491-4629-b51d-a5ce34b73500"
      },
      "outputs": [
        {
          "output_type": "execute_result",
          "data": {
            "text/plain": [
              "                                               sentence1  \\\n",
              "50574              A child rides a bike high in the air.   \n",
              "16594             A lot of motorcycles lined up in Asia.   \n",
              "23954  A group of hikers in packs walk up a stone sta...   \n",
              "22515  A man in a black shirt is throwing a child in ...   \n",
              "7999   Some youth are playing basketball on an outdoo...   \n",
              "\n",
              "                                               sentence2  gold_label  \n",
              "50574                             A child riding a bike.           0  \n",
              "16594               There are a few motorcycles in Asia.           1  \n",
              "23954                     A group of hikers are outside.           0  \n",
              "22515  A man wearing clothes throwing a child into th...           0  \n",
              "7999                   The youth are playing basketball.           0  "
            ],
            "text/html": [
              "\n",
              "  <div id=\"df-d50540a1-e18f-4599-87f5-3913a4347b23\">\n",
              "    <div class=\"colab-df-container\">\n",
              "      <div>\n",
              "<style scoped>\n",
              "    .dataframe tbody tr th:only-of-type {\n",
              "        vertical-align: middle;\n",
              "    }\n",
              "\n",
              "    .dataframe tbody tr th {\n",
              "        vertical-align: top;\n",
              "    }\n",
              "\n",
              "    .dataframe thead th {\n",
              "        text-align: right;\n",
              "    }\n",
              "</style>\n",
              "<table border=\"1\" class=\"dataframe\">\n",
              "  <thead>\n",
              "    <tr style=\"text-align: right;\">\n",
              "      <th></th>\n",
              "      <th>sentence1</th>\n",
              "      <th>sentence2</th>\n",
              "      <th>gold_label</th>\n",
              "    </tr>\n",
              "  </thead>\n",
              "  <tbody>\n",
              "    <tr>\n",
              "      <th>50574</th>\n",
              "      <td>A child rides a bike high in the air.</td>\n",
              "      <td>A child riding a bike.</td>\n",
              "      <td>0</td>\n",
              "    </tr>\n",
              "    <tr>\n",
              "      <th>16594</th>\n",
              "      <td>A lot of motorcycles lined up in Asia.</td>\n",
              "      <td>There are a few motorcycles in Asia.</td>\n",
              "      <td>1</td>\n",
              "    </tr>\n",
              "    <tr>\n",
              "      <th>23954</th>\n",
              "      <td>A group of hikers in packs walk up a stone sta...</td>\n",
              "      <td>A group of hikers are outside.</td>\n",
              "      <td>0</td>\n",
              "    </tr>\n",
              "    <tr>\n",
              "      <th>22515</th>\n",
              "      <td>A man in a black shirt is throwing a child in ...</td>\n",
              "      <td>A man wearing clothes throwing a child into th...</td>\n",
              "      <td>0</td>\n",
              "    </tr>\n",
              "    <tr>\n",
              "      <th>7999</th>\n",
              "      <td>Some youth are playing basketball on an outdoo...</td>\n",
              "      <td>The youth are playing basketball.</td>\n",
              "      <td>0</td>\n",
              "    </tr>\n",
              "  </tbody>\n",
              "</table>\n",
              "</div>\n",
              "      <button class=\"colab-df-convert\" onclick=\"convertToInteractive('df-d50540a1-e18f-4599-87f5-3913a4347b23')\"\n",
              "              title=\"Convert this dataframe to an interactive table.\"\n",
              "              style=\"display:none;\">\n",
              "        \n",
              "  <svg xmlns=\"http://www.w3.org/2000/svg\" height=\"24px\"viewBox=\"0 0 24 24\"\n",
              "       width=\"24px\">\n",
              "    <path d=\"M0 0h24v24H0V0z\" fill=\"none\"/>\n",
              "    <path d=\"M18.56 5.44l.94 2.06.94-2.06 2.06-.94-2.06-.94-.94-2.06-.94 2.06-2.06.94zm-11 1L8.5 8.5l.94-2.06 2.06-.94-2.06-.94L8.5 2.5l-.94 2.06-2.06.94zm10 10l.94 2.06.94-2.06 2.06-.94-2.06-.94-.94-2.06-.94 2.06-2.06.94z\"/><path d=\"M17.41 7.96l-1.37-1.37c-.4-.4-.92-.59-1.43-.59-.52 0-1.04.2-1.43.59L10.3 9.45l-7.72 7.72c-.78.78-.78 2.05 0 2.83L4 21.41c.39.39.9.59 1.41.59.51 0 1.02-.2 1.41-.59l7.78-7.78 2.81-2.81c.8-.78.8-2.07 0-2.86zM5.41 20L4 18.59l7.72-7.72 1.47 1.35L5.41 20z\"/>\n",
              "  </svg>\n",
              "      </button>\n",
              "      \n",
              "  <style>\n",
              "    .colab-df-container {\n",
              "      display:flex;\n",
              "      flex-wrap:wrap;\n",
              "      gap: 12px;\n",
              "    }\n",
              "\n",
              "    .colab-df-convert {\n",
              "      background-color: #E8F0FE;\n",
              "      border: none;\n",
              "      border-radius: 50%;\n",
              "      cursor: pointer;\n",
              "      display: none;\n",
              "      fill: #1967D2;\n",
              "      height: 32px;\n",
              "      padding: 0 0 0 0;\n",
              "      width: 32px;\n",
              "    }\n",
              "\n",
              "    .colab-df-convert:hover {\n",
              "      background-color: #E2EBFA;\n",
              "      box-shadow: 0px 1px 2px rgba(60, 64, 67, 0.3), 0px 1px 3px 1px rgba(60, 64, 67, 0.15);\n",
              "      fill: #174EA6;\n",
              "    }\n",
              "\n",
              "    [theme=dark] .colab-df-convert {\n",
              "      background-color: #3B4455;\n",
              "      fill: #D2E3FC;\n",
              "    }\n",
              "\n",
              "    [theme=dark] .colab-df-convert:hover {\n",
              "      background-color: #434B5C;\n",
              "      box-shadow: 0px 1px 3px 1px rgba(0, 0, 0, 0.15);\n",
              "      filter: drop-shadow(0px 1px 2px rgba(0, 0, 0, 0.3));\n",
              "      fill: #FFFFFF;\n",
              "    }\n",
              "  </style>\n",
              "\n",
              "      <script>\n",
              "        const buttonEl =\n",
              "          document.querySelector('#df-d50540a1-e18f-4599-87f5-3913a4347b23 button.colab-df-convert');\n",
              "        buttonEl.style.display =\n",
              "          google.colab.kernel.accessAllowed ? 'block' : 'none';\n",
              "\n",
              "        async function convertToInteractive(key) {\n",
              "          const element = document.querySelector('#df-d50540a1-e18f-4599-87f5-3913a4347b23');\n",
              "          const dataTable =\n",
              "            await google.colab.kernel.invokeFunction('convertToInteractive',\n",
              "                                                     [key], {});\n",
              "          if (!dataTable) return;\n",
              "\n",
              "          const docLinkHtml = 'Like what you see? Visit the ' +\n",
              "            '<a target=\"_blank\" href=https://colab.research.google.com/notebooks/data_table.ipynb>data table notebook</a>'\n",
              "            + ' to learn more about interactive tables.';\n",
              "          element.innerHTML = '';\n",
              "          dataTable['output_type'] = 'display_data';\n",
              "          await google.colab.output.renderOutput(dataTable, element);\n",
              "          const docLink = document.createElement('div');\n",
              "          docLink.innerHTML = docLinkHtml;\n",
              "          element.appendChild(docLink);\n",
              "        }\n",
              "      </script>\n",
              "    </div>\n",
              "  </div>\n",
              "  "
            ]
          },
          "metadata": {},
          "execution_count": 11
        }
      ],
      "source": [
        "# df['sentence1'] = df['sentence1'].apply(limpiarTexto)\n",
        "# df['sentence2'] = df['sentence2'].apply(limpiarTexto)\n",
        "stop_words = stopwords.words('english')\n",
        "limpiarTexto(df['sentence1'])\n",
        "limpiarTexto(df['sentence2'])\n",
        "df.head()"
      ]
    },
    {
      "cell_type": "code",
      "execution_count": null,
      "metadata": {
        "id": "0xkcTF-wlqyp"
      },
      "outputs": [],
      "source": [
        "#@title Pre procesamiento\n",
        "# stop_words = stopwords.words('english')\n",
        "# more_stopwords = ['u', 'im', 'c']\n",
        "# stop_words = stop_words + more_stopwords\n",
        "\n",
        "# def remove_stopwords(text):\n",
        "#     text = ' '.join(word for word in text.split(' ') if word not in stop_words)\n",
        "#     return text\n",
        "  \n",
        "# df['sentence1'] = df['sentence1'].apply(remove_stopwords)\n",
        "# df['sentence2'] = df['sentence2'].apply(remove_stopwords)\n",
        "# df['sentence1'].shape\n",
        "# df['sentence2'].shape\n"
      ]
    },
    {
      "cell_type": "code",
      "execution_count": null,
      "metadata": {
        "id": "dk6_wzTHmaqN"
      },
      "outputs": [],
      "source": [
        "# stemmer = nltk.SnowballStemmer('english')\n",
        "# def stematizar(texto):\n",
        "#   texto = ' '.join(stemmer.stem(word) for word in texto.split(' ')) #Divide el texto, y aplica la función de stematización a cada palabra\n",
        "#   return texto\n",
        "# df['sentence1'] = df['sentence1'].apply(stematizar)\n",
        "# df['sentence2'] = df['sentence2'].apply(stematizar)\n",
        "# df.head()\n"
      ]
    },
    {
      "cell_type": "code",
      "execution_count": 12,
      "metadata": {
        "colab": {
          "base_uri": "https://localhost:8080/"
        },
        "id": "p-gcV5c9ThAm",
        "outputId": "d7f721c9-e6b0-47cf-eb88-fd1103ce9f91"
      },
      "outputs": [
        {
          "output_type": "execute_result",
          "data": {
            "text/plain": [
              "(35787,)"
            ]
          },
          "metadata": {},
          "execution_count": 12
        }
      ],
      "source": [
        "df['sentence1'].shape\n",
        "df['sentence2'].shape"
      ]
    },
    {
      "cell_type": "code",
      "execution_count": 13,
      "metadata": {
        "colab": {
          "base_uri": "https://localhost:8080/"
        },
        "id": "U4dT4HRrOSmg",
        "outputId": "dacc9935-f899-44e3-da4d-cc74224bf3c9"
      },
      "outputs": [
        {
          "output_type": "stream",
          "name": "stdout",
          "text": [
            "[['A child rides a bike high in the air.'\n",
            "  'A lot of motorcycles lined up in Asia.'\n",
            "  'A group of hikers in packs walk up a stone staircase in the forest.'\n",
            "  ... 'A blond woman is playing drums with band members.'\n",
            "  'The teddy bear has white pads on the bottom of its feet.'\n",
            "  'A man riding his bike looking ahead at finish line.']\n",
            " ['A child riding a bike.' 'There are a few motorcycles in Asia.'\n",
            "  'A group of hikers are outside.' ... 'A kid playing his guitar.'\n",
            "  'The teddy bear has brown pads on its paws' 'A man is in a race.']]\n"
          ]
        }
      ],
      "source": [
        "#@title Tokenización\n",
        "sentencias_arreglo = np.asarray([df['sentence1'],df['sentence2']])\n",
        "print(sentencias_arreglo)\n",
        "sentencias_arreglo = sentencias_arreglo.reshape(-1,1)"
      ]
    },
    {
      "cell_type": "markdown",
      "metadata": {
        "id": "NL9EZmMEU5N3"
      },
      "source": []
    },
    {
      "cell_type": "code",
      "execution_count": 14,
      "metadata": {
        "colab": {
          "base_uri": "https://localhost:8080/"
        },
        "id": "30V7ybwXUspr",
        "outputId": "2f2744dc-60e1-4788-e2eb-9d077af0d5a3"
      },
      "outputs": [
        {
          "output_type": "execute_result",
          "data": {
            "text/plain": [
              "(71574, 1)"
            ]
          },
          "metadata": {},
          "execution_count": 14
        }
      ],
      "source": [
        "sentencias_arreglo.shape"
      ]
    },
    {
      "cell_type": "code",
      "execution_count": 15,
      "metadata": {
        "colab": {
          "base_uri": "https://localhost:8080/"
        },
        "id": "5hqzOfVpfmhr",
        "outputId": "3a00fdab-2515-4b63-fa46-3a7cdbe3534b"
      },
      "outputs": [
        {
          "output_type": "stream",
          "name": "stdout",
          "text": [
            "[['A child rides a bike high in the air.']\n",
            " ['A lot of motorcycles lined up in Asia.']\n",
            " ['A group of hikers in packs walk up a stone staircase in the forest.']\n",
            " ...\n",
            " ['A kid playing his guitar.']\n",
            " ['The teddy bear has brown pads on its paws']\n",
            " ['A man is in a race.']]\n"
          ]
        }
      ],
      "source": [
        "print(sentencias_arreglo)"
      ]
    },
    {
      "cell_type": "markdown",
      "metadata": {
        "id": "2KsNhd8vZlDU"
      },
      "source": []
    },
    {
      "cell_type": "code",
      "execution_count": 16,
      "metadata": {
        "colab": {
          "base_uri": "https://localhost:8080/"
        },
        "id": "286AgJKdUpR7",
        "outputId": "fe62a61f-d8a3-44fe-c81b-c83383038dd9"
      },
      "outputs": [
        {
          "output_type": "execute_result",
          "data": {
            "text/plain": [
              "(71574,)"
            ]
          },
          "metadata": {},
          "execution_count": 16
        }
      ],
      "source": [
        "sentencias_arreglo = sentencias_arreglo.reshape(sentencias_arreglo.shape[0])\n",
        "sentencias_arreglo.shape"
      ]
    },
    {
      "cell_type": "code",
      "execution_count": 17,
      "metadata": {
        "colab": {
          "base_uri": "https://localhost:8080/"
        },
        "id": "J4qN8zbuJEUU",
        "outputId": "d7aaaa4e-4014-4506-c9fb-71c18956ca5d"
      },
      "outputs": [
        {
          "output_type": "stream",
          "name": "stdout",
          "text": [
            "['A child rides a bike high in the air.'\n",
            " 'A lot of motorcycles lined up in Asia.'\n",
            " 'A group of hikers in packs walk up a stone staircase in the forest.' ...\n",
            " 'A kid playing his guitar.' 'The teddy bear has brown pads on its paws'\n",
            " 'A man is in a race.']\n"
          ]
        }
      ],
      "source": [
        "print(sentencias_arreglo)"
      ]
    },
    {
      "cell_type": "code",
      "execution_count": 18,
      "metadata": {
        "id": "RQJ_hL3kRsdJ"
      },
      "outputs": [],
      "source": [
        "tokenizar = Tokenizer(num_words = 6000)\n",
        "tokenizar.fit_on_texts(sentencias_arreglo) #Transforma a \"número\" las palabras dentro del arreglo\n"
      ]
    },
    {
      "cell_type": "code",
      "execution_count": 19,
      "metadata": {
        "colab": {
          "base_uri": "https://localhost:8080/"
        },
        "id": "i59ygGaHWA1y",
        "outputId": "43797ef9-340a-46c6-9da5-a9a18117017f"
      },
      "outputs": [
        {
          "output_type": "stream",
          "name": "stdout",
          "text": [
            "[[   0    0    0 ...   61    1   84]\n",
            " [   0    0    0 ...  581    3 1650]\n",
            " [   0    0    0 ...  771    7   33]\n",
            " ...\n",
            " [   0    0    0 ...   19   18  130]\n",
            " [   0    0    0 ...    6  208 4242]\n",
            " [   0    0    0 ...    3    1  187]]\n"
          ]
        }
      ],
      "source": [
        "texto_original_seq = tokenizar.texts_to_sequences(df['sentence1']) #Guarda un arreglo que en vez de palabras, posee índices de palabras\n",
        "texto_original = pad_sequences(texto_original_seq) #Agrega padding para estandarizar el tamaño\n",
        "hipotesis_seq = tokenizar.texts_to_sequences(df['sentence2'])\n",
        "hipotesis = pad_sequences(hipotesis_seq, maxlen = texto_original.shape[1])\n",
        "print(hipotesis)"
      ]
    },
    {
      "cell_type": "code",
      "execution_count": 20,
      "metadata": {
        "colab": {
          "base_uri": "https://localhost:8080/"
        },
        "id": "mmlONHo07kGx",
        "outputId": "608da9e8-bbcd-44fe-fa41-aff098eeac84"
      },
      "outputs": [
        {
          "output_type": "execute_result",
          "data": {
            "text/plain": [
              "array([0, 1, 0, ..., 1, 1, 0])"
            ]
          },
          "metadata": {},
          "execution_count": 20
        }
      ],
      "source": [
        "encoder = LabelEncoder()\n",
        "etiquetas = df['gold_label']\n",
        "etiquetas = encoder.fit_transform(etiquetas)\n",
        "etiquetas"
      ]
    },
    {
      "cell_type": "code",
      "execution_count": 21,
      "metadata": {
        "colab": {
          "base_uri": "https://localhost:8080/"
        },
        "id": "v8wfOHBoAyJY",
        "outputId": "8e9ff860-7433-4afa-8296-53df1a19aa04"
      },
      "outputs": [
        {
          "output_type": "execute_result",
          "data": {
            "text/plain": [
              "array([[1., 0.],\n",
              "       [0., 1.],\n",
              "       [1., 0.],\n",
              "       ...,\n",
              "       [0., 1.],\n",
              "       [0., 1.],\n",
              "       [1., 0.]], dtype=float32)"
            ]
          },
          "metadata": {},
          "execution_count": 21
        }
      ],
      "source": [
        "etiquetas = to_categorical(etiquetas)\n",
        "etiquetas"
      ]
    },
    {
      "cell_type": "code",
      "execution_count": 22,
      "metadata": {
        "colab": {
          "base_uri": "https://localhost:8080/"
        },
        "id": "cqO_SU2VSivT",
        "outputId": "fc295eb6-8fa0-46fe-caf2-9abcb51cc899"
      },
      "outputs": [
        {
          "output_type": "execute_result",
          "data": {
            "text/plain": [
              "(35787, 78)"
            ]
          },
          "metadata": {},
          "execution_count": 22
        }
      ],
      "source": [
        "texto_original.shape"
      ]
    },
    {
      "cell_type": "code",
      "execution_count": 23,
      "metadata": {
        "colab": {
          "base_uri": "https://localhost:8080/"
        },
        "id": "yrh_P0TJwPFN",
        "outputId": "f0fa73a5-24d9-46fd-b0fc-25f128391859"
      },
      "outputs": [
        {
          "output_type": "execute_result",
          "data": {
            "text/plain": [
              "(35787, 78)"
            ]
          },
          "metadata": {},
          "execution_count": 23
        }
      ],
      "source": [
        "hipotesis.shape"
      ]
    },
    {
      "cell_type": "code",
      "execution_count": 24,
      "metadata": {
        "colab": {
          "base_uri": "https://localhost:8080/"
        },
        "id": "Tv9ICEIsxdtH",
        "outputId": "9f977955-39ae-4ec5-d441-a91e381a4353"
      },
      "outputs": [
        {
          "output_type": "execute_result",
          "data": {
            "text/plain": [
              "array([[[   0,    0,    0, ...,    3,    2,  129],\n",
              "        [   0,    0,    0, ...,   53,    3, 1650],\n",
              "        [   0,    0,    0, ...,    3,    2,  429],\n",
              "        ...,\n",
              "        [   0,    0,    0, ...,   10,  176,  833],\n",
              "        [   0,    0,    0, ...,    9,  208,  519],\n",
              "        [   0,    0,    0, ...,   15, 1472,  288]],\n",
              "\n",
              "       [[   0,    0,    0, ...,   61,    1,   84],\n",
              "        [   0,    0,    0, ...,  581,    3, 1650],\n",
              "        [   0,    0,    0, ...,  771,    7,   33],\n",
              "        ...,\n",
              "        [   0,    0,    0, ...,   19,   18,  130],\n",
              "        [   0,    0,    0, ...,    6,  208, 4242],\n",
              "        [   0,    0,    0, ...,    3,    1,  187]]], dtype=int32)"
            ]
          },
          "metadata": {},
          "execution_count": 24
        }
      ],
      "source": [
        "data_tokenizada = np.asarray([texto_original,hipotesis])\n",
        "data_tokenizada"
      ]
    },
    {
      "cell_type": "code",
      "execution_count": 25,
      "metadata": {
        "colab": {
          "base_uri": "https://localhost:8080/"
        },
        "id": "2bfiGtIMJnOc",
        "outputId": "9d0b93a3-083c-4262-9744-094c2e308903"
      },
      "outputs": [
        {
          "output_type": "execute_result",
          "data": {
            "text/plain": [
              "(2, 35787, 78)"
            ]
          },
          "metadata": {},
          "execution_count": 25
        }
      ],
      "source": [
        "data_tokenizada.shape"
      ]
    },
    {
      "cell_type": "code",
      "execution_count": 26,
      "metadata": {
        "id": "bB0bKS2YAoiG"
      },
      "outputs": [],
      "source": [
        "data_tokenizada = data_tokenizada.reshape(data_tokenizada.shape[1], 2, data_tokenizada.shape[2])"
      ]
    },
    {
      "cell_type": "code",
      "execution_count": 27,
      "metadata": {
        "colab": {
          "base_uri": "https://localhost:8080/"
        },
        "id": "xGMdMFVfhDCx",
        "outputId": "16e68777-12b5-492b-d7bd-9318e702dbc1"
      },
      "outputs": [
        {
          "output_type": "execute_result",
          "data": {
            "text/plain": [
              "(35787, 2, 78)"
            ]
          },
          "metadata": {},
          "execution_count": 27
        }
      ],
      "source": [
        "data_tokenizada.shape"
      ]
    },
    {
      "cell_type": "code",
      "execution_count": 28,
      "metadata": {
        "colab": {
          "base_uri": "https://localhost:8080/"
        },
        "id": "DgWpTZ5xz9-G",
        "outputId": "96059578-f50f-4968-f0d6-84bfaf7009a6"
      },
      "outputs": [
        {
          "output_type": "execute_result",
          "data": {
            "text/plain": [
              "{'a': 1,\n",
              " 'the': 2,\n",
              " 'in': 3,\n",
              " 'is': 4,\n",
              " 'man': 5,\n",
              " 'on': 6,\n",
              " 'are': 7,\n",
              " 'and': 8,\n",
              " 'of': 9,\n",
              " 'with': 10,\n",
              " 'woman': 11,\n",
              " 'people': 12,\n",
              " 'two': 13,\n",
              " 'to': 14,\n",
              " 'at': 15,\n",
              " 'an': 16,\n",
              " 'wearing': 17,\n",
              " 'his': 18,\n",
              " 'playing': 19,\n",
              " 'men': 20,\n",
              " 'shirt': 21,\n",
              " 'young': 22,\n",
              " 'girl': 23,\n",
              " 'white': 24,\n",
              " 'sitting': 25,\n",
              " 'black': 26,\n",
              " 'dog': 27,\n",
              " 'blue': 28,\n",
              " 'while': 29,\n",
              " 'boy': 30,\n",
              " 'standing': 31,\n",
              " 'red': 32,\n",
              " 'outside': 33,\n",
              " 'group': 34,\n",
              " 'her': 35,\n",
              " 'person': 36,\n",
              " 'street': 37,\n",
              " 'walking': 38,\n",
              " 'down': 39,\n",
              " 'there': 40,\n",
              " 'three': 41,\n",
              " 'holding': 42,\n",
              " 'front': 43,\n",
              " 'by': 44,\n",
              " 'women': 45,\n",
              " 'one': 46,\n",
              " 'for': 47,\n",
              " 'child': 48,\n",
              " 'water': 49,\n",
              " 'their': 50,\n",
              " 'looking': 51,\n",
              " 'children': 52,\n",
              " 'up': 53,\n",
              " 'green': 54,\n",
              " 'some': 55,\n",
              " 'as': 56,\n",
              " 'running': 57,\n",
              " 'little': 58,\n",
              " 'yellow': 59,\n",
              " 'has': 60,\n",
              " 'riding': 61,\n",
              " 'near': 62,\n",
              " 'through': 63,\n",
              " 'other': 64,\n",
              " 'large': 65,\n",
              " 'hat': 66,\n",
              " 'next': 67,\n",
              " 'ball': 68,\n",
              " 'from': 69,\n",
              " 'out': 70,\n",
              " 'another': 71,\n",
              " 'brown': 72,\n",
              " 'beach': 73,\n",
              " 'building': 74,\n",
              " 'into': 75,\n",
              " 'around': 76,\n",
              " 'over': 77,\n",
              " 'dressed': 78,\n",
              " 'girls': 79,\n",
              " 'field': 80,\n",
              " 'small': 81,\n",
              " 'dogs': 82,\n",
              " 'sits': 83,\n",
              " 'bike': 84,\n",
              " 'boys': 85,\n",
              " 'jacket': 86,\n",
              " 'stands': 87,\n",
              " 'orange': 88,\n",
              " 'working': 89,\n",
              " 'picture': 90,\n",
              " 'camera': 91,\n",
              " 'crowd': 92,\n",
              " 'grass': 93,\n",
              " 'top': 94,\n",
              " 'four': 95,\n",
              " 'watching': 96,\n",
              " 'hair': 97,\n",
              " 'sleeping': 98,\n",
              " 'behind': 99,\n",
              " 'stand': 100,\n",
              " 'player': 101,\n",
              " 'lady': 102,\n",
              " 'play': 103,\n",
              " 'pink': 104,\n",
              " 'sidewalk': 105,\n",
              " 'park': 106,\n",
              " 'background': 107,\n",
              " 'table': 108,\n",
              " 'together': 109,\n",
              " 'wall': 110,\n",
              " 'car': 111,\n",
              " 'plays': 112,\n",
              " 'eating': 113,\n",
              " 'game': 114,\n",
              " 'snow': 115,\n",
              " 'baseball': 116,\n",
              " 'something': 117,\n",
              " 'talking': 118,\n",
              " 'jumping': 119,\n",
              " 'soccer': 120,\n",
              " 'asian': 121,\n",
              " 'old': 122,\n",
              " 'looks': 123,\n",
              " 'it': 124,\n",
              " 'that': 125,\n",
              " 'several': 126,\n",
              " 'couple': 127,\n",
              " 'inside': 128,\n",
              " 'air': 129,\n",
              " 'guitar': 130,\n",
              " 'outdoors': 131,\n",
              " 'dress': 132,\n",
              " 'taking': 133,\n",
              " 'kids': 134,\n",
              " 'swimming': 135,\n",
              " 'off': 136,\n",
              " 'food': 137,\n",
              " 'gray': 138,\n",
              " 'along': 139,\n",
              " 'walks': 140,\n",
              " 'being': 141,\n",
              " 'road': 142,\n",
              " 'city': 143,\n",
              " 'shorts': 144,\n",
              " 'guy': 145,\n",
              " 'doing': 146,\n",
              " 'hand': 147,\n",
              " 'older': 148,\n",
              " 'side': 149,\n",
              " 'stage': 150,\n",
              " 'bench': 151,\n",
              " 'holds': 152,\n",
              " 'football': 153,\n",
              " 'pool': 154,\n",
              " 'him': 155,\n",
              " 'they': 156,\n",
              " 'dark': 157,\n",
              " 'jeans': 158,\n",
              " 'pants': 159,\n",
              " 'each': 160,\n",
              " 'all': 161,\n",
              " 'blond': 162,\n",
              " 'carrying': 163,\n",
              " 'performing': 164,\n",
              " 'bicycle': 165,\n",
              " 'boat': 166,\n",
              " 'male': 167,\n",
              " 'smiling': 168,\n",
              " 'head': 169,\n",
              " 'sit': 170,\n",
              " 'baby': 171,\n",
              " 'walk': 172,\n",
              " 'tree': 173,\n",
              " 'face': 174,\n",
              " 'ground': 175,\n",
              " 'band': 176,\n",
              " 'hands': 177,\n",
              " 'sign': 178,\n",
              " 'he': 179,\n",
              " 'basketball': 180,\n",
              " 'who': 181,\n",
              " 'female': 182,\n",
              " 'across': 183,\n",
              " 'workers': 184,\n",
              " 'dancing': 185,\n",
              " 'back': 186,\n",
              " 'race': 187,\n",
              " 'getting': 188,\n",
              " 'them': 189,\n",
              " 'tennis': 190,\n",
              " 'work': 191,\n",
              " 'someone': 192,\n",
              " 'waiting': 193,\n",
              " 'players': 194,\n",
              " 'construction': 195,\n",
              " 'having': 196,\n",
              " 'rides': 197,\n",
              " 'using': 198,\n",
              " 'mountain': 199,\n",
              " 'room': 200,\n",
              " 'long': 201,\n",
              " 'runs': 202,\n",
              " 't': 203,\n",
              " 'horse': 204,\n",
              " 'glasses': 205,\n",
              " 'this': 206,\n",
              " 'middle': 207,\n",
              " 'its': 208,\n",
              " 'making': 209,\n",
              " 'rock': 210,\n",
              " 'ocean': 211,\n",
              " 'purple': 212,\n",
              " 'suit': 213,\n",
              " 'day': 214,\n",
              " 'under': 215,\n",
              " 'dirt': 216,\n",
              " 'mouth': 217,\n",
              " 'look': 218,\n",
              " 'clothes': 219,\n",
              " 'coat': 220,\n",
              " 'team': 221,\n",
              " 'be': 222,\n",
              " 'toy': 223,\n",
              " 'climbing': 224,\n",
              " 'drinking': 225,\n",
              " 'sunglasses': 226,\n",
              " 'area': 227,\n",
              " 'guys': 228,\n",
              " 'kitchen': 229,\n",
              " 'many': 230,\n",
              " 'watch': 231,\n",
              " 'cap': 232,\n",
              " 'home': 233,\n",
              " 'about': 234,\n",
              " 'store': 235,\n",
              " 'driving': 236,\n",
              " 'sand': 237,\n",
              " 'reading': 238,\n",
              " 'shirts': 239,\n",
              " 'jumps': 240,\n",
              " 'singing': 241,\n",
              " 'bag': 242,\n",
              " 'striped': 243,\n",
              " 'clothing': 244,\n",
              " 'not': 245,\n",
              " 'hill': 246,\n",
              " 'no': 247,\n",
              " 'window': 248,\n",
              " 'music': 249,\n",
              " 'tank': 250,\n",
              " 'laying': 251,\n",
              " 'going': 252,\n",
              " 'posing': 253,\n",
              " 'cat': 254,\n",
              " 'against': 255,\n",
              " 'kid': 256,\n",
              " 'painting': 257,\n",
              " 'uniform': 258,\n",
              " 'microphone': 259,\n",
              " 'couch': 260,\n",
              " 'floor': 261,\n",
              " 'watches': 262,\n",
              " 'skateboard': 263,\n",
              " 'big': 264,\n",
              " 'house': 265,\n",
              " 'train': 266,\n",
              " 'have': 267,\n",
              " 'ride': 268,\n",
              " 'wooden': 269,\n",
              " 'haired': 270,\n",
              " 'elderly': 271,\n",
              " 'bright': 272,\n",
              " 'covered': 273,\n",
              " 'chair': 274,\n",
              " 'or': 275,\n",
              " 'was': 276,\n",
              " 'alone': 277,\n",
              " 'sweater': 278,\n",
              " 'hats': 279,\n",
              " 'she': 280,\n",
              " 'fence': 281,\n",
              " 'cart': 282,\n",
              " 'umbrella': 283,\n",
              " 'track': 284,\n",
              " 'during': 285,\n",
              " 'past': 286,\n",
              " 'very': 287,\n",
              " 'line': 288,\n",
              " 'asleep': 289,\n",
              " 'five': 290,\n",
              " 'truck': 291,\n",
              " 'away': 292,\n",
              " 'restaurant': 293,\n",
              " 'towards': 294,\n",
              " 'ice': 295,\n",
              " 'phone': 296,\n",
              " 'run': 297,\n",
              " 'outdoor': 298,\n",
              " 'colorful': 299,\n",
              " 'market': 300,\n",
              " 'arms': 301,\n",
              " 'bus': 302,\n",
              " 'trying': 303,\n",
              " 'book': 304,\n",
              " 'dance': 305,\n",
              " 'lake': 306,\n",
              " 'busy': 307,\n",
              " 'adults': 308,\n",
              " 'enjoying': 309,\n",
              " 'piece': 310,\n",
              " 'helmet': 311,\n",
              " 'family': 312,\n",
              " 'light': 313,\n",
              " 'motorcycle': 314,\n",
              " 'surrounded': 315,\n",
              " 'after': 316,\n",
              " 'bikes': 317,\n",
              " 'ready': 318,\n",
              " 'colored': 319,\n",
              " 'shopping': 320,\n",
              " 'high': 321,\n",
              " 'bed': 322,\n",
              " 'setting': 323,\n",
              " 'path': 324,\n",
              " 'uniforms': 325,\n",
              " 'outfit': 326,\n",
              " 'nobody': 327,\n",
              " 'cooking': 328,\n",
              " 'instruments': 329,\n",
              " 'beside': 330,\n",
              " 'cars': 331,\n",
              " 'jump': 332,\n",
              " 'selling': 333,\n",
              " 'shop': 334,\n",
              " 'fire': 335,\n",
              " 'both': 336,\n",
              " 'fountain': 337,\n",
              " 'onto': 338,\n",
              " 'tan': 339,\n",
              " 'animal': 340,\n",
              " 'trees': 341,\n",
              " 'preparing': 342,\n",
              " 'body': 343,\n",
              " 'empty': 344,\n",
              " 'worker': 345,\n",
              " 'african': 346,\n",
              " 'river': 347,\n",
              " 'stairs': 348,\n",
              " 'concert': 349,\n",
              " 'photo': 350,\n",
              " 'metal': 351,\n",
              " 'takes': 352,\n",
              " 'lot': 353,\n",
              " 'crowded': 354,\n",
              " 'fishing': 355,\n",
              " 'bar': 356,\n",
              " 'racing': 357,\n",
              " 'like': 358,\n",
              " 'cellphone': 359,\n",
              " 'grassy': 360,\n",
              " 'vest': 361,\n",
              " 'indoors': 362,\n",
              " 'rope': 363,\n",
              " 'does': 364,\n",
              " 'machine': 365,\n",
              " 'skateboarder': 366,\n",
              " 'audience': 367,\n",
              " 'left': 368,\n",
              " 'gear': 369,\n",
              " 'graffiti': 370,\n",
              " 'board': 371,\n",
              " 'friends': 372,\n",
              " 'hockey': 373,\n",
              " 'bicycles': 374,\n",
              " 'short': 375,\n",
              " 'others': 376,\n",
              " 'get': 377,\n",
              " 'bridge': 378,\n",
              " 'instrument': 379,\n",
              " 'were': 380,\n",
              " 'police': 381,\n",
              " 'party': 382,\n",
              " 'open': 383,\n",
              " 'stick': 384,\n",
              " 'frisbee': 385,\n",
              " 'trick': 386,\n",
              " 'toddler': 387,\n",
              " 'throwing': 388,\n",
              " 'full': 389,\n",
              " 'above': 390,\n",
              " 'pose': 391,\n",
              " 'right': 392,\n",
              " 'drink': 393,\n",
              " 'hanging': 394,\n",
              " 'computer': 395,\n",
              " 'school': 396,\n",
              " 'hard': 397,\n",
              " 'tv': 398,\n",
              " 'pole': 399,\n",
              " 'parked': 400,\n",
              " 'swing': 401,\n",
              " 'laughing': 402,\n",
              " 'sun': 403,\n",
              " 'event': 404,\n",
              " 'rocks': 405,\n",
              " 'pictures': 406,\n",
              " 'playground': 407,\n",
              " 'stone': 408,\n",
              " 'station': 409,\n",
              " 'night': 410,\n",
              " 'door': 411,\n",
              " 'sweatshirt': 412,\n",
              " 'flying': 413,\n",
              " 'brick': 414,\n",
              " 'shoes': 415,\n",
              " 'costume': 416,\n",
              " 'snowy': 417,\n",
              " 'arm': 418,\n",
              " 'shirtless': 419,\n",
              " 'ladies': 420,\n",
              " 'backpack': 421,\n",
              " 'biker': 422,\n",
              " 'vehicle': 423,\n",
              " 'public': 424,\n",
              " 'what': 425,\n",
              " 'skirt': 426,\n",
              " 'safety': 427,\n",
              " 'toward': 428,\n",
              " 'forest': 429,\n",
              " 'where': 430,\n",
              " 'bags': 431,\n",
              " 'sky': 432,\n",
              " 'leaning': 433,\n",
              " 'art': 434,\n",
              " 'roof': 435,\n",
              " 'statue': 436,\n",
              " 'pulling': 437,\n",
              " 'view': 438,\n",
              " 'foreground': 439,\n",
              " 'slide': 440,\n",
              " 'lawn': 441,\n",
              " 'chairs': 442,\n",
              " 'subway': 443,\n",
              " 'beautiful': 444,\n",
              " 'listening': 445,\n",
              " 'take': 446,\n",
              " 'beard': 447,\n",
              " 'sleeps': 448,\n",
              " 'jackets': 449,\n",
              " 'between': 450,\n",
              " 'wave': 451,\n",
              " 'lying': 452,\n",
              " 'paper': 453,\n",
              " 'plastic': 454,\n",
              " 'makes': 455,\n",
              " 'swim': 456,\n",
              " 'which': 457,\n",
              " 'flowers': 458,\n",
              " 'painted': 459,\n",
              " 'skateboarding': 460,\n",
              " 'gathered': 461,\n",
              " 'pushing': 462,\n",
              " 'corner': 463,\n",
              " 'hot': 464,\n",
              " 'drinks': 465,\n",
              " 'tall': 466,\n",
              " 'equipment': 467,\n",
              " 'rain': 468,\n",
              " 'nearby': 469,\n",
              " 'performs': 470,\n",
              " 'appears': 471,\n",
              " 'time': 472,\n",
              " 'sunny': 473,\n",
              " 'made': 474,\n",
              " 'go': 475,\n",
              " 'woods': 476,\n",
              " 'beer': 477,\n",
              " 'concrete': 478,\n",
              " 'catch': 479,\n",
              " 'bunch': 480,\n",
              " 'coffee': 481,\n",
              " 'giving': 482,\n",
              " 'fighting': 483,\n",
              " 'tie': 484,\n",
              " 'six': 485,\n",
              " 'filled': 486,\n",
              " 'tent': 487,\n",
              " 'seated': 488,\n",
              " 'cake': 489,\n",
              " 'glass': 490,\n",
              " 'bird': 491,\n",
              " 'pointing': 492,\n",
              " 'number': 493,\n",
              " 'crying': 494,\n",
              " 'balloon': 495,\n",
              " 'bull': 496,\n",
              " 'poses': 497,\n",
              " 'stop': 498,\n",
              " 'scarf': 499,\n",
              " 'hold': 500,\n",
              " 'court': 501,\n",
              " 'before': 502,\n",
              " 'moving': 503,\n",
              " 'putting': 504,\n",
              " 'mountains': 505,\n",
              " 'human': 506,\n",
              " 'american': 507,\n",
              " 'volleyball': 508,\n",
              " 'only': 509,\n",
              " 'winter': 510,\n",
              " 'buildings': 511,\n",
              " 'fruit': 512,\n",
              " 'distance': 513,\n",
              " 'mother': 514,\n",
              " 'object': 515,\n",
              " 'throws': 516,\n",
              " 'leans': 517,\n",
              " 'cowboy': 518,\n",
              " 'feet': 519,\n",
              " 'steps': 520,\n",
              " 'lunch': 521,\n",
              " 'smiles': 522,\n",
              " 'costumes': 523,\n",
              " 'martial': 524,\n",
              " 'bald': 525,\n",
              " 'aged': 526,\n",
              " 'display': 527,\n",
              " 'edge': 528,\n",
              " 'competition': 529,\n",
              " 'stadium': 530,\n",
              " 'country': 531,\n",
              " 'different': 532,\n",
              " 'eats': 533,\n",
              " 'show': 534,\n",
              " 'boots': 535,\n",
              " 'set': 536,\n",
              " 'military': 537,\n",
              " 'wheel': 538,\n",
              " 'new': 539,\n",
              " 'desert': 540,\n",
              " 'fish': 541,\n",
              " 'showing': 542,\n",
              " 'yard': 543,\n",
              " 'few': 544,\n",
              " 'office': 545,\n",
              " 'horses': 546,\n",
              " 'smoking': 547,\n",
              " 'cross': 548,\n",
              " 'gloves': 549,\n",
              " 'shoulder': 550,\n",
              " 'diving': 551,\n",
              " 'works': 552,\n",
              " 'luggage': 553,\n",
              " 'wedding': 554,\n",
              " 'dresses': 555,\n",
              " 'arts': 556,\n",
              " 'individuals': 557,\n",
              " '2': 558,\n",
              " 'teams': 559,\n",
              " 'goggles': 560,\n",
              " 'hiking': 561,\n",
              " 'indian': 562,\n",
              " 'cleaning': 563,\n",
              " 'perform': 564,\n",
              " 'video': 565,\n",
              " 'just': 566,\n",
              " 'can': 567,\n",
              " 'adult': 568,\n",
              " 'desk': 569,\n",
              " 'reads': 570,\n",
              " 'singer': 571,\n",
              " \"man's\": 572,\n",
              " 'rider': 573,\n",
              " 'himself': 574,\n",
              " 'crossing': 575,\n",
              " 'prepares': 576,\n",
              " 'musicians': 577,\n",
              " 'climbs': 578,\n",
              " 'class': 579,\n",
              " 'shows': 580,\n",
              " 'motorcycles': 581,\n",
              " 'carries': 582,\n",
              " 'females': 583,\n",
              " 'officers': 584,\n",
              " 'eat': 585,\n",
              " 'wears': 586,\n",
              " 'same': 587,\n",
              " 'speaking': 588,\n",
              " 'dinner': 589,\n",
              " 'place': 590,\n",
              " 'leaves': 591,\n",
              " 'surfing': 592,\n",
              " 'sculpture': 593,\n",
              " 'staring': 594,\n",
              " 'eyes': 595,\n",
              " 'meal': 596,\n",
              " 'talk': 597,\n",
              " 'gets': 598,\n",
              " 'midair': 599,\n",
              " 'softball': 600,\n",
              " 'naked': 601,\n",
              " 'skiing': 602,\n",
              " 'hit': 603,\n",
              " 'vendor': 604,\n",
              " 'animals': 605,\n",
              " 'cutting': 606,\n",
              " 'kicking': 607,\n",
              " 'scooter': 608,\n",
              " 'wood': 609,\n",
              " 'shore': 610,\n",
              " 'wet': 611,\n",
              " 'blowing': 612,\n",
              " 'cream': 613,\n",
              " 'box': 614,\n",
              " 'chasing': 615,\n",
              " 'parade': 616,\n",
              " 'surfer': 617,\n",
              " 'happy': 618,\n",
              " 'airport': 619,\n",
              " 'sports': 620,\n",
              " 'trail': 621,\n",
              " 'blanket': 622,\n",
              " 'vests': 623,\n",
              " 'gentleman': 624,\n",
              " 'shovel': 625,\n",
              " 'flags': 626,\n",
              " 'cafe': 627,\n",
              " 'humans': 628,\n",
              " 'plaid': 629,\n",
              " 'son': 630,\n",
              " 'rail': 631,\n",
              " 'parking': 632,\n",
              " 'balloons': 633,\n",
              " 'suits': 634,\n",
              " 'practicing': 635,\n",
              " 'pile': 636,\n",
              " 'musical': 637,\n",
              " 'shoulders': 638,\n",
              " 'structure': 639,\n",
              " 'basket': 640,\n",
              " '3': 641,\n",
              " 'ramp': 642,\n",
              " 'way': 643,\n",
              " 'spectators': 644,\n",
              " 'writing': 645,\n",
              " 'skier': 646,\n",
              " 'talks': 647,\n",
              " 'cigarette': 648,\n",
              " 'flag': 649,\n",
              " 'sport': 650,\n",
              " 'attempting': 651,\n",
              " 'cup': 652,\n",
              " 'balls': 653,\n",
              " 'sewing': 654,\n",
              " 'fight': 655,\n",
              " 'pulled': 656,\n",
              " 'golf': 657,\n",
              " 'foot': 658,\n",
              " 'bikini': 659,\n",
              " 'lined': 660,\n",
              " 'break': 661,\n",
              " 'shot': 662,\n",
              " 'violin': 663,\n",
              " 'make': 664,\n",
              " 'sliding': 665,\n",
              " 'seven': 666,\n",
              " 'vegetables': 667,\n",
              " 'throw': 668,\n",
              " 'pass': 669,\n",
              " 'garden': 670,\n",
              " 'life': 671,\n",
              " 'younger': 672,\n",
              " 'sort': 673,\n",
              " 'drives': 674,\n",
              " 'resting': 675,\n",
              " 'relaxing': 676,\n",
              " 'church': 677,\n",
              " 'skating': 678,\n",
              " 'students': 679,\n",
              " 'do': 680,\n",
              " 'facing': 681,\n",
              " 'attire': 682,\n",
              " 'dock': 683,\n",
              " 'match': 684,\n",
              " 'waits': 685,\n",
              " 'photograph': 686,\n",
              " 'father': 687,\n",
              " 'swinging': 688,\n",
              " 'ladder': 689,\n",
              " 'smile': 690,\n",
              " 'telescope': 691,\n",
              " 'gym': 692,\n",
              " 'legs': 693,\n",
              " 'teenage': 694,\n",
              " 'how': 695,\n",
              " 'things': 696,\n",
              " 'friend': 697,\n",
              " 'bat': 698,\n",
              " 'surfboard': 699,\n",
              " 'meat': 700,\n",
              " 'signs': 701,\n",
              " 'drums': 702,\n",
              " 'lots': 703,\n",
              " 'intersection': 704,\n",
              " 'traffic': 705,\n",
              " 'tongue': 706,\n",
              " 'movie': 707,\n",
              " 'gun': 708,\n",
              " 'pair': 709,\n",
              " 'streets': 710,\n",
              " 'faces': 711,\n",
              " 'kick': 712,\n",
              " 'musician': 713,\n",
              " 'base': 714,\n",
              " 'bottle': 715,\n",
              " 'uses': 716,\n",
              " 'various': 717,\n",
              " 'held': 718,\n",
              " 'piano': 719,\n",
              " 'taken': 720,\n",
              " 'climb': 721,\n",
              " 'neck': 722,\n",
              " 'officer': 723,\n",
              " 'cheerleaders': 724,\n",
              " 'opening': 725,\n",
              " 'touching': 726,\n",
              " 'type': 727,\n",
              " 'gather': 728,\n",
              " 'kissing': 729,\n",
              " 'among': 730,\n",
              " 'close': 731,\n",
              " 'onlookers': 732,\n",
              " 'items': 733,\n",
              " 'business': 734,\n",
              " 'first': 735,\n",
              " 'net': 736,\n",
              " 'rodeo': 737,\n",
              " 'purse': 738,\n",
              " 'color': 739,\n",
              " 'gold': 740,\n",
              " 'course': 741,\n",
              " 'dancers': 742,\n",
              " 'seen': 743,\n",
              " 'these': 744,\n",
              " 'males': 745,\n",
              " 'dances': 746,\n",
              " 'artist': 747,\n",
              " 'classroom': 748,\n",
              " 'ski': 749,\n",
              " 'scene': 750,\n",
              " 'leg': 751,\n",
              " 'karate': 752,\n",
              " 'grill': 753,\n",
              " 'daughter': 754,\n",
              " 'speech': 755,\n",
              " 'nap': 756,\n",
              " 'bride': 757,\n",
              " 'games': 758,\n",
              " 'mat': 759,\n",
              " 'sunset': 760,\n",
              " 'bucket': 761,\n",
              " 'backyard': 762,\n",
              " 'conversation': 763,\n",
              " 'sale': 764,\n",
              " 'bathing': 765,\n",
              " 'pizza': 766,\n",
              " 'chinese': 767,\n",
              " 'sings': 768,\n",
              " 'flip': 769,\n",
              " 'coats': 770,\n",
              " 'hikers': 771,\n",
              " 'electric': 772,\n",
              " 'tables': 773,\n",
              " 'railing': 774,\n",
              " 'bubbles': 775,\n",
              " 'rocky': 776,\n",
              " 'stunt': 777,\n",
              " 'alley': 778,\n",
              " 'swims': 779,\n",
              " 'airplane': 780,\n",
              " 'washing': 781,\n",
              " 'hoodie': 782,\n",
              " 'tattoo': 783,\n",
              " 'wait': 784,\n",
              " 'snowboarder': 785,\n",
              " 'shooting': 786,\n",
              " 'plane': 787,\n",
              " 'drum': 788,\n",
              " 'pushes': 789,\n",
              " 'collar': 790,\n",
              " 'hole': 791,\n",
              " 'town': 792,\n",
              " 'fixing': 793,\n",
              " 'brightly': 794,\n",
              " 'kayak': 795,\n",
              " 'skinned': 796,\n",
              " 'sled': 797,\n",
              " 'wear': 798,\n",
              " 'drawing': 799,\n",
              " 'huge': 800,\n",
              " 'mask': 801,\n",
              " 'gathering': 802,\n",
              " 'helping': 803,\n",
              " 'cyclist': 804,\n",
              " 'picking': 805,\n",
              " 'unicycle': 806,\n",
              " 'clown': 807,\n",
              " 'goes': 808,\n",
              " 'scuba': 809,\n",
              " 'bagpipes': 810,\n",
              " 'goods': 811,\n",
              " 'pond': 812,\n",
              " 'bearded': 813,\n",
              " 'jersey': 814,\n",
              " 'multiple': 815,\n",
              " 'helmets': 816,\n",
              " 'stroller': 817,\n",
              " 'cold': 818,\n",
              " 'cats': 819,\n",
              " 'garage': 820,\n",
              " 'competing': 821,\n",
              " 'motorcyclist': 822,\n",
              " 'kneeling': 823,\n",
              " 'doll': 824,\n",
              " 'apron': 825,\n",
              " 'tools': 826,\n",
              " 'outfits': 827,\n",
              " 'mall': 828,\n",
              " 'mural': 829,\n",
              " 'ship': 830,\n",
              " 'tries': 831,\n",
              " 'christmas': 832,\n",
              " 'members': 833,\n",
              " 'flower': 834,\n",
              " 'racetrack': 835,\n",
              " 'passing': 836,\n",
              " 'marathon': 837,\n",
              " 'plants': 838,\n",
              " 'shoe': 839,\n",
              " 'sandy': 840,\n",
              " 'bowl': 841,\n",
              " 'present': 842,\n",
              " 'site': 843,\n",
              " 'groom': 844,\n",
              " 'highway': 845,\n",
              " 'well': 846,\n",
              " 'bicyclists': 847,\n",
              " 'wagon': 848,\n",
              " 'toys': 849,\n",
              " 'golden': 850,\n",
              " 'cones': 851,\n",
              " 'newspaper': 852,\n",
              " 'bowling': 853,\n",
              " 'juggling': 854,\n",
              " 'cloudy': 855,\n",
              " 'trash': 856,\n",
              " 'windows': 857,\n",
              " 'including': 858,\n",
              " 'tricks': 859,\n",
              " 'porch': 860,\n",
              " 'falling': 861,\n",
              " 'doorway': 862,\n",
              " 'performance': 863,\n",
              " 'upside': 864,\n",
              " 'pit': 865,\n",
              " 'cards': 866,\n",
              " 'choir': 867,\n",
              " 'platform': 868,\n",
              " 'nice': 869,\n",
              " 'cheering': 870,\n",
              " 'pedestrians': 871,\n",
              " 'enjoy': 872,\n",
              " 'customers': 873,\n",
              " 'matching': 874,\n",
              " 'trumpet': 875,\n",
              " 'sea': 876,\n",
              " 'chef': 877,\n",
              " 'appear': 878,\n",
              " 'cut': 879,\n",
              " 'teenagers': 880,\n",
              " 'fun': 881,\n",
              " 'tool': 882,\n",
              " 'dumpster': 883,\n",
              " 'waves': 884,\n",
              " 'tea': 885,\n",
              " 'fall': 886,\n",
              " 'pot': 887,\n",
              " 'crosswalk': 888,\n",
              " 'living': 889,\n",
              " 'rest': 890,\n",
              " 'transportation': 891,\n",
              " 'screen': 892,\n",
              " 'driver': 893,\n",
              " 'hall': 894,\n",
              " 'ledge': 895,\n",
              " 'gas': 896,\n",
              " 'speaks': 897,\n",
              " 'clean': 898,\n",
              " 'colors': 899,\n",
              " 'clowns': 900,\n",
              " 'picnic': 901,\n",
              " 'fast': 902,\n",
              " 'nothing': 903,\n",
              " 'vehicles': 904,\n",
              " 'deep': 905,\n",
              " 'see': 906,\n",
              " 'scaffolding': 907,\n",
              " 'walkway': 908,\n",
              " 'thrown': 909,\n",
              " 'ahead': 910,\n",
              " 'plate': 911,\n",
              " 'wheelchair': 912,\n",
              " 'jogging': 913,\n",
              " 'produce': 914,\n",
              " 'cow': 915,\n",
              " 'homeless': 916,\n",
              " 'juice': 917,\n",
              " 'cheek': 918,\n",
              " 'hugging': 919,\n",
              " 'sofa': 920,\n",
              " 'routine': 921,\n",
              " 'sticks': 922,\n",
              " 'television': 923,\n",
              " 'closed': 924,\n",
              " 'bear': 925,\n",
              " 'bottom': 926,\n",
              " 'belt': 927,\n",
              " 'teaching': 928,\n",
              " 'giant': 929,\n",
              " 'ballet': 930,\n",
              " 'dancer': 931,\n",
              " 'counter': 932,\n",
              " 'birthday': 933,\n",
              " 'without': 934,\n",
              " 'checking': 935,\n",
              " 'brunette': 936,\n",
              " 'catches': 937,\n",
              " 'cone': 938,\n",
              " 'swings': 939,\n",
              " 'tire': 940,\n",
              " 'hitting': 941,\n",
              " 'birds': 942,\n",
              " 'hooded': 943,\n",
              " 'jerseys': 944,\n",
              " 'hits': 945,\n",
              " 'married': 946,\n",
              " 'tiled': 947,\n",
              " 'row': 948,\n",
              " 'paddle': 949,\n",
              " 'below': 950,\n",
              " 'balance': 951,\n",
              " 'log': 952,\n",
              " 'roller': 953,\n",
              " 'gives': 954,\n",
              " 'shovels': 955,\n",
              " 'atop': 956,\n",
              " 'balcony': 957,\n",
              " 'played': 958,\n",
              " 'cement': 959,\n",
              " 'catching': 960,\n",
              " 'festival': 961,\n",
              " 'leash': 962,\n",
              " 'saxophone': 963,\n",
              " 'photographer': 964,\n",
              " 'operating': 965,\n",
              " 'polo': 966,\n",
              " 'curb': 967,\n",
              " 'chases': 968,\n",
              " 'had': 969,\n",
              " 'gymnast': 970,\n",
              " 'visible': 971,\n",
              " 'lit': 972,\n",
              " 'sandals': 973,\n",
              " 'lays': 974,\n",
              " 'paint': 975,\n",
              " 'khaki': 976,\n",
              " 'summer': 977,\n",
              " 'racket': 978,\n",
              " 'carpet': 979,\n",
              " 'dry': 980,\n",
              " 'weather': 981,\n",
              " 'urban': 982,\n",
              " 'cyclists': 983,\n",
              " 'fair': 984,\n",
              " 'if': 985,\n",
              " 'doctor': 986,\n",
              " 'polka': 987,\n",
              " 'arena': 988,\n",
              " 'lights': 989,\n",
              " 'catcher': 990,\n",
              " 'fans': 991,\n",
              " 'dirty': 992,\n",
              " 'carnival': 993,\n",
              " 'still': 994,\n",
              " 'everyone': 995,\n",
              " 'bandanna': 996,\n",
              " 'poles': 997,\n",
              " 'runner': 998,\n",
              " 'round': 999,\n",
              " 'tunnel': 1000,\n",
              " ...}"
            ]
          },
          "metadata": {},
          "execution_count": 28
        }
      ],
      "source": [
        "tokenizar.word_index"
      ]
    },
    {
      "cell_type": "code",
      "execution_count": 29,
      "metadata": {
        "id": "-z1jMcxaxpWt"
      },
      "outputs": [],
      "source": [
        "#@title Embedding\n",
        "vocabulario = len(tokenizar.word_index)\n",
        "\n",
        "def gloveWork(archivo,vocabulario):\n",
        "  #Se crea un diccionario palabra-vector de un modelo preentrenado(Glove)\n",
        "  embeddings_index = {}\n",
        "  file_ = open(archivo)\n",
        "  for line in file_:\n",
        "      arr = line.split()\n",
        "      palabra = arr[0]\n",
        "      vector = np.asarray(arr[1:],dtype='float32')\n",
        "      embeddings_index[palabra] = vector\n",
        "  file_.close() \n",
        "\n",
        "  tam_maximo = vocabulario +1\n",
        "  indices_palabras = tokenizar.word_index\n",
        "  embedding_matriz = np.zeros((tam_maximo,300)).astype(object)\n",
        "\n",
        "  for palabrax, indice in indices_palabras.items():\n",
        "    vector_entrenado = embeddings_index.get(palabrax)\n",
        "    if vector_entrenado is not None:\n",
        "      embedding_matriz[indice] = vector_entrenado\n",
        "\n",
        "  return embedding_matriz\n"
      ]
    },
    {
      "cell_type": "code",
      "execution_count": 30,
      "metadata": {
        "id": "ZMx-uqxvzWik"
      },
      "outputs": [],
      "source": [
        "#@title Modelo\n",
        "x = Input(shape=(data_tokenizada.shape[1], data_tokenizada.shape[2],))\n",
        "p = TimeDistributed(Embedding(vocabulario + 1 , 300))(x)\n",
        "p = TimeDistributed(LSTM(128, return_sequences=True))(p)\n",
        "p = TimeDistributed(LSTM(64, return_sequences=True))(p)\n",
        "x1 = TimeDistributed(tf.keras.layers.GlobalMaxPooling1D())(p)\n",
        "x2 = TimeDistributed(tf.keras.layers.GlobalAveragePooling1D())(p)\n",
        "concat = tf.keras.layers.concatenate([x1, x2])\n",
        "p = tf.keras.layers.Dropout(0.3)(concat)\n",
        "p = Flatten()(p)\n",
        "p = Dense(2, activation=\"softmax\")(p)"
      ]
    },
    {
      "cell_type": "code",
      "execution_count": 31,
      "metadata": {
        "id": "Qooa5OYrf4Cn"
      },
      "outputs": [],
      "source": [
        "m = tf.keras.models.Model(inputs = x, outputs = p)"
      ]
    },
    {
      "cell_type": "code",
      "execution_count": 32,
      "metadata": {
        "id": "Fdp7tDs2yRrP"
      },
      "outputs": [],
      "source": [
        "m.layers[1].set_weights([gloveWork(\"glove.6B.300d.txt\", vocabulario)])"
      ]
    },
    {
      "cell_type": "code",
      "execution_count": 33,
      "metadata": {
        "colab": {
          "base_uri": "https://localhost:8080/"
        },
        "id": "Aw6s9msG9glS",
        "outputId": "64ea3c0a-67b3-4dd4-e672-fa640e95b203"
      },
      "outputs": [
        {
          "output_type": "stream",
          "name": "stdout",
          "text": [
            "Model: \"model\"\n",
            "__________________________________________________________________________________________________\n",
            " Layer (type)                   Output Shape         Param #     Connected to                     \n",
            "==================================================================================================\n",
            " input_1 (InputLayer)           [(None, 2, 78)]      0           []                               \n",
            "                                                                                                  \n",
            " time_distributed (TimeDistribu  (None, 2, 78, 300)  3264000     ['input_1[0][0]']                \n",
            " ted)                                                                                             \n",
            "                                                                                                  \n",
            " time_distributed_1 (TimeDistri  (None, 2, 78, 128)  219648      ['time_distributed[0][0]']       \n",
            " buted)                                                                                           \n",
            "                                                                                                  \n",
            " time_distributed_2 (TimeDistri  (None, 2, 78, 64)   49408       ['time_distributed_1[0][0]']     \n",
            " buted)                                                                                           \n",
            "                                                                                                  \n",
            " time_distributed_3 (TimeDistri  (None, 2, 64)       0           ['time_distributed_2[0][0]']     \n",
            " buted)                                                                                           \n",
            "                                                                                                  \n",
            " time_distributed_4 (TimeDistri  (None, 2, 64)       0           ['time_distributed_2[0][0]']     \n",
            " buted)                                                                                           \n",
            "                                                                                                  \n",
            " concatenate (Concatenate)      (None, 2, 128)       0           ['time_distributed_3[0][0]',     \n",
            "                                                                  'time_distributed_4[0][0]']     \n",
            "                                                                                                  \n",
            " dropout (Dropout)              (None, 2, 128)       0           ['concatenate[0][0]']            \n",
            "                                                                                                  \n",
            " flatten (Flatten)              (None, 256)          0           ['dropout[0][0]']                \n",
            "                                                                                                  \n",
            " dense (Dense)                  (None, 2)            514         ['flatten[0][0]']                \n",
            "                                                                                                  \n",
            "==================================================================================================\n",
            "Total params: 3,533,570\n",
            "Trainable params: 3,533,570\n",
            "Non-trainable params: 0\n",
            "__________________________________________________________________________________________________\n"
          ]
        }
      ],
      "source": [
        "m.summary()"
      ]
    },
    {
      "cell_type": "code",
      "execution_count": 34,
      "metadata": {
        "id": "rsihcDzb9ki_"
      },
      "outputs": [],
      "source": [
        "m.compile(loss=\"binary_crossentropy\",optimizer='adam',metrics=[TruePositives(name='tp'),\n",
        "                                                                     FalsePositives(name='fp'),\n",
        "                                                                     TrueNegatives(name='tn'),\n",
        "                                                                     FalseNegatives(name='fn'),\n",
        "                                                                     \"accuracy\",\n",
        "                                                                     Precision(name='precision'),\n",
        "                                                                     Recall(name='recall'),\n",
        "                                                                     AUC(name = \"AUC\")])\n"
      ]
    },
    {
      "cell_type": "code",
      "execution_count": 35,
      "metadata": {
        "id": "HiviMcdO_zzl"
      },
      "outputs": [],
      "source": [
        "earlyStopping = EarlyStopping(monitor = 'loss', patience = 60, mode = 'min', restore_best_weights = True)"
      ]
    },
    {
      "cell_type": "code",
      "execution_count": null,
      "metadata": {
        "colab": {
          "base_uri": "https://localhost:8080/"
        },
        "id": "eawzrQWqAFDV",
        "outputId": "4d6c3f94-9ae4-4f36-f0bc-c07054c6c6c4"
      },
      "outputs": [
        {
          "output_type": "stream",
          "name": "stdout",
          "text": [
            "Epoch 1/2500\n",
            "35/35 [==============================] - 158s 4s/step - loss: 0.6937 - tp: 17859.0000 - fp: 17928.0000 - tn: 17859.0000 - fn: 17928.0000 - accuracy: 0.4990 - precision: 0.4990 - recall: 0.4990 - AUC: 0.4968\n",
            "Epoch 2/2500\n",
            "35/35 [==============================] - 149s 4s/step - loss: 0.6929 - tp: 18196.0000 - fp: 17591.0000 - tn: 18196.0000 - fn: 17591.0000 - accuracy: 0.5085 - precision: 0.5085 - recall: 0.5085 - AUC: 0.5137\n",
            "Epoch 3/2500\n",
            "35/35 [==============================] - 147s 4s/step - loss: 0.6921 - tp: 18579.0000 - fp: 17208.0000 - tn: 18579.0000 - fn: 17208.0000 - accuracy: 0.5192 - precision: 0.5192 - recall: 0.5192 - AUC: 0.5284\n",
            "Epoch 4/2500\n",
            "35/35 [==============================] - 153s 4s/step - loss: 0.6909 - tp: 19025.0000 - fp: 16762.0000 - tn: 19025.0000 - fn: 16762.0000 - accuracy: 0.5316 - precision: 0.5316 - recall: 0.5316 - AUC: 0.5409\n",
            "Epoch 5/2500\n",
            "35/35 [==============================] - 149s 4s/step - loss: 0.6871 - tp: 19487.0000 - fp: 16300.0000 - tn: 19487.0000 - fn: 16300.0000 - accuracy: 0.5445 - precision: 0.5445 - recall: 0.5445 - AUC: 0.5644\n",
            "Epoch 6/2500\n",
            "35/35 [==============================] - 149s 4s/step - loss: 0.6790 - tp: 20312.0000 - fp: 15475.0000 - tn: 20312.0000 - fn: 15475.0000 - accuracy: 0.5676 - precision: 0.5676 - recall: 0.5676 - AUC: 0.5967\n",
            "Epoch 7/2500\n",
            "35/35 [==============================] - 150s 4s/step - loss: 0.6654 - tp: 21209.0000 - fp: 14578.0000 - tn: 21209.0000 - fn: 14578.0000 - accuracy: 0.5926 - precision: 0.5926 - recall: 0.5926 - AUC: 0.6327\n",
            "Epoch 8/2500\n",
            "35/35 [==============================] - 153s 4s/step - loss: 0.6477 - tp: 22051.0000 - fp: 13736.0000 - tn: 22051.0000 - fn: 13736.0000 - accuracy: 0.6162 - precision: 0.6162 - recall: 0.6162 - AUC: 0.6668\n",
            "Epoch 9/2500\n",
            "35/35 [==============================] - 148s 4s/step - loss: 0.6292 - tp: 22758.0000 - fp: 13029.0000 - tn: 22758.0000 - fn: 13029.0000 - accuracy: 0.6359 - precision: 0.6359 - recall: 0.6359 - AUC: 0.6962\n",
            "Epoch 10/2500\n",
            "35/35 [==============================] - 149s 4s/step - loss: 0.6077 - tp: 23533.0000 - fp: 12254.0000 - tn: 23533.0000 - fn: 12254.0000 - accuracy: 0.6576 - precision: 0.6576 - recall: 0.6576 - AUC: 0.7245\n",
            "Epoch 11/2500\n",
            "35/35 [==============================] - 148s 4s/step - loss: 0.5864 - tp: 24313.0000 - fp: 11474.0000 - tn: 24313.0000 - fn: 11474.0000 - accuracy: 0.6794 - precision: 0.6794 - recall: 0.6794 - AUC: 0.7515\n",
            "Epoch 12/2500\n",
            " 8/35 [=====>........................] - ETA: 1:56 - loss: 0.5480 - tp: 5778.0000 - fp: 2414.0000 - tn: 5778.0000 - fn: 2414.0000 - accuracy: 0.7053 - precision: 0.7053 - recall: 0.7053 - AUC: 0.7950"
          ]
        }
      ],
      "source": [
        "history_training = m.fit(data_tokenizada,etiquetas,\n",
        "                         epochs= 2500,\n",
        "                         batch_size = 1024,\n",
        "                         use_multiprocessing=True,\n",
        "                         workers=-1,\n",
        "                         callbacks=[earlyStopping])"
      ]
    },
    {
      "cell_type": "code",
      "execution_count": null,
      "metadata": {
        "id": "LcDUcNotLF6Y"
      },
      "outputs": [],
      "source": [
        "import matplotlib as mpl\n",
        "def draw_plot(data,c, type_data):\n",
        "  mpl.style.use('seaborn')\n",
        "  plt.figure(figsize = (20, 6))\n",
        "  plt.plot(data,c, label= type_data)\n",
        "  plt.xlabel('Epoch')\n",
        "  plt.ylabel(type_data)\n",
        "  plt.legend()\n"
      ]
    },
    {
      "cell_type": "code",
      "execution_count": null,
      "metadata": {
        "id": "HSZCEthaLUf0"
      },
      "outputs": [],
      "source": [
        "draw_plot(history_training.history['accuracy'],\"darkgreen\", \"Precisión\")"
      ]
    },
    {
      "cell_type": "code",
      "execution_count": null,
      "metadata": {
        "id": "CsITm7I5z9wO"
      },
      "outputs": [],
      "source": [
        "\n",
        "draw_plot(history_training.history['loss'],\"blue\", \"Pérdida\")"
      ]
    },
    {
      "cell_type": "code",
      "execution_count": null,
      "metadata": {
        "id": "kvvyO9rh43lC"
      },
      "outputs": [],
      "source": [
        "draw_plot(history_training.history['fn'],'blue','prueba')"
      ]
    },
    {
      "cell_type": "code",
      "execution_count": null,
      "metadata": {
        "id": "o8MuCQOi0Nbw"
      },
      "outputs": [],
      "source": [
        "#@title Cargar datos de prueba\n",
        "df_prueba = pd.read_csv('/content/sample_data/snli_1.0_test.csv')\n",
        "columnas_prueba = ['sentence1','sentence2','gold_label']\n",
        "df_prueba = df_prueba[columnas_prueba]\n",
        "df_prueba.dropna(axis=0, inplace=True) #Se eliminan datos nulos\n",
        "df_prueba.head()"
      ]
    },
    {
      "cell_type": "code",
      "execution_count": null,
      "metadata": {
        "id": "lEolPDDDBQtS"
      },
      "outputs": [],
      "source": [
        "df_prueba = df_prueba.loc[df_prueba['gold_label'] != \"-\"]   #Se botan las filas que contengan - y neutral\n",
        "df_prueba = df_prueba.loc[df_prueba['gold_label'] != \"neutral\"]\n",
        "df_prueba.shape"
      ]
    },
    {
      "cell_type": "code",
      "execution_count": null,
      "metadata": {
        "id": "rlz5bgH-Bmtm"
      },
      "outputs": [],
      "source": [
        "df_prueba = df_prueba.sample(frac = 1)\n",
        "df_prueba[\"gold_label\"] = (df_prueba[\"gold_label\"] == \"contradiction\").astype(int)\n",
        "df_prueba.head()"
      ]
    },
    {
      "cell_type": "code",
      "execution_count": null,
      "metadata": {
        "id": "4NAnnTIjBtMv"
      },
      "outputs": [],
      "source": [
        "df_prueba['sentence1'] = df_prueba['sentence1'].apply(limpiarTexto)\n",
        "df_prueba['sentence2'] = df_prueba['sentence2'].apply(limpiarTexto)\n",
        "df_prueba.head()"
      ]
    },
    {
      "cell_type": "code",
      "execution_count": null,
      "metadata": {
        "id": "Eh5KhWraCDOv"
      },
      "outputs": [],
      "source": [
        "df_prueba['sentence1'] = df_prueba['sentence1'].apply(remove_stopwords)\n",
        "df_prueba['sentence2'] = df_prueba['sentence2'].apply(remove_stopwords)\n",
        "df_prueba['sentence1'] = df_prueba['sentence1'].apply(stematizar)\n",
        "df_prueba['sentence2'] = df_prueba['sentence2'].apply(stematizar)"
      ]
    },
    {
      "cell_type": "code",
      "execution_count": null,
      "metadata": {
        "id": "DTWLZaEcCxxM"
      },
      "outputs": [],
      "source": [
        "#@title Tokenización set de pruebas\n",
        "sentencias_arreglo_prueba = np.asarray([df_prueba['sentence1'],df_prueba['sentence2']])\n",
        "print(sentencias_arreglo_prueba)\n",
        "sentencias_arreglo_prueba = sentencias_arreglo_prueba.reshape(-1,1)\n",
        "sentencias_arreglo_prueba = sentencias_arreglo_prueba.reshape(sentencias_arreglo_prueba.shape[0])\n",
        "texto_original_seq_prueba = tokenizar.texts_to_sequences(df_prueba['sentence1']) #Guarda un arreglo que en vez de palabras, posee índices de palabras\n",
        "texto_original_prueba = pad_sequences(texto_original_seq_prueba,45) #Agrega padding para estandarizar el tamaño\n",
        "hipotesis_seq_prueba = tokenizar.texts_to_sequences(df_prueba['sentence2'])\n",
        "hipotesis_prueba = pad_sequences(hipotesis_seq_prueba, maxlen = texto_original_prueba.shape[1])\n",
        "hipotesis_prueba.shape"
      ]
    },
    {
      "cell_type": "code",
      "execution_count": null,
      "metadata": {
        "id": "DpU6aaCXT-SB"
      },
      "outputs": [],
      "source": [
        "texto_original_prueba.shape"
      ]
    },
    {
      "cell_type": "code",
      "execution_count": null,
      "metadata": {
        "id": "o4qCzfLwbVt_"
      },
      "outputs": [],
      "source": [
        "tokenizar.word_index"
      ]
    },
    {
      "cell_type": "code",
      "execution_count": null,
      "metadata": {
        "id": "5MkWE5hzG8Cr"
      },
      "outputs": [],
      "source": [
        "encoder_prueba = LabelEncoder()\n",
        "etiquetas_prueba = df_prueba['gold_label']\n",
        "etiquetas_prueba = encoder_prueba.fit_transform(etiquetas_prueba)\n",
        "etiquetas_prueba = to_categorical(etiquetas_prueba)\n",
        "etiquetas_prueba.shape"
      ]
    },
    {
      "cell_type": "code",
      "execution_count": null,
      "metadata": {
        "id": "2plHqGHcHy1q"
      },
      "outputs": [],
      "source": [
        "data_tokenizada_prueba = np.asarray([texto_original_prueba,hipotesis_prueba])\n",
        "data_tokenizada_prueba = data_tokenizada_prueba.reshape(data_tokenizada_prueba.shape[1], 2, data_tokenizada_prueba.shape[2])\n",
        "data_tokenizada_prueba.shape"
      ]
    },
    {
      "cell_type": "markdown",
      "metadata": {
        "id": "aWK5RO4SVMLY"
      },
      "source": []
    },
    {
      "cell_type": "code",
      "execution_count": null,
      "metadata": {
        "id": "jMrfqd3xVNpx"
      },
      "outputs": [],
      "source": [
        "m.evaluate(data_tokenizada_prueba,etiquetas_prueba,batch_size = 6605)"
      ]
    },
    {
      "cell_type": "code",
      "execution_count": null,
      "metadata": {
        "id": "mS2E338IX07j"
      },
      "outputs": [],
      "source": [
        "\n",
        "from sklearn.metrics import accuracy_score\n"
      ]
    },
    {
      "cell_type": "code",
      "execution_count": null,
      "metadata": {
        "id": "BVYx3MiyIOf5"
      },
      "outputs": [],
      "source": [
        "prediccion = m.predict(data_tokenizada_prueba, batch_size = 1024, verbose = 1)\n",
        "prediccion"
      ]
    }
  ],
  "metadata": {
    "accelerator": "GPU",
    "colab": {
      "provenance": [],
      "authorship_tag": "ABX9TyOXEtH9obcC3IHiCWuPktYQ",
      "include_colab_link": true
    },
    "gpuClass": "standard",
    "kernelspec": {
      "display_name": "Python 3",
      "name": "python3"
    },
    "language_info": {
      "name": "python"
    }
  },
  "nbformat": 4,
  "nbformat_minor": 0
}